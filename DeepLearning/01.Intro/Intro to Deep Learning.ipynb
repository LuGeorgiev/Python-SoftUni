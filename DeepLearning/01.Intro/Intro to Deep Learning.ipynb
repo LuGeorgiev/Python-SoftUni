{
 "cells": [
  {
   "cell_type": "code",
   "execution_count": 1,
   "metadata": {},
   "outputs": [],
   "source": [
    "%matplotlib inline"
   ]
  },
  {
   "cell_type": "code",
   "execution_count": 2,
   "metadata": {},
   "outputs": [],
   "source": [
    "import numpy as np\n",
    "import pandas as pd\n",
    "import matplotlib.pyplot as plt\n",
    "\n",
    "import tensorflow as tf\n",
    "\n",
    "from tensorflow.keras.models import Sequential\n",
    "from tensorflow.keras.layers import Input, Dense"
   ]
  },
  {
   "cell_type": "markdown",
   "metadata": {},
   "source": [
    "# Introduction to Deep Learning\n",
    "## Live Demos"
   ]
  },
  {
   "cell_type": "code",
   "execution_count": 3,
   "metadata": {},
   "outputs": [],
   "source": [
    "# (2a + 3b)^2"
   ]
  },
  {
   "cell_type": "code",
   "execution_count": 3,
   "metadata": {},
   "outputs": [],
   "source": [
    "a = tf.constant(300)\n",
    "b = tf.constant(100)"
   ]
  },
  {
   "cell_type": "code",
   "execution_count": 4,
   "metadata": {},
   "outputs": [
    {
     "data": {
      "text/plain": [
       "<tf.Tensor: shape=(), dtype=int32, numpy=810000>"
      ]
     },
     "execution_count": 4,
     "metadata": {},
     "output_type": "execute_result"
    }
   ],
   "source": [
    "tf.pow(tf.add(tf.multiply(2, a), tf.multiply(3, b)), 2)"
   ]
  },
  {
   "cell_type": "code",
   "execution_count": 5,
   "metadata": {},
   "outputs": [
    {
     "data": {
      "text/plain": [
       "8100"
      ]
     },
     "execution_count": 5,
     "metadata": {},
     "output_type": "execute_result"
    }
   ],
   "source": [
    "(2 * 30 + 3 * 10) ** 2"
   ]
  },
  {
   "cell_type": "code",
   "execution_count": 6,
   "metadata": {},
   "outputs": [
    {
     "data": {
      "text/plain": [
       "<tf.Tensor: shape=(), dtype=int32, numpy=810000>"
      ]
     },
     "execution_count": 6,
     "metadata": {},
     "output_type": "execute_result"
    }
   ],
   "source": [
    "(2 * a + 3 * b) ** 2"
   ]
  },
  {
   "cell_type": "code",
   "execution_count": 7,
   "metadata": {},
   "outputs": [],
   "source": [
    "bank_data = pd.read_csv(\"data/bank.csv\", sep = \";\", true_values = [\"yes\"], false_values = [\"no\"])"
   ]
  },
  {
   "cell_type": "code",
   "execution_count": 8,
   "metadata": {},
   "outputs": [
    {
     "data": {
      "text/html": [
       "<div>\n",
       "<style scoped>\n",
       "    .dataframe tbody tr th:only-of-type {\n",
       "        vertical-align: middle;\n",
       "    }\n",
       "\n",
       "    .dataframe tbody tr th {\n",
       "        vertical-align: top;\n",
       "    }\n",
       "\n",
       "    .dataframe thead th {\n",
       "        text-align: right;\n",
       "    }\n",
       "</style>\n",
       "<table border=\"1\" class=\"dataframe\">\n",
       "  <thead>\n",
       "    <tr style=\"text-align: right;\">\n",
       "      <th></th>\n",
       "      <th>age</th>\n",
       "      <th>job</th>\n",
       "      <th>marital</th>\n",
       "      <th>education</th>\n",
       "      <th>default</th>\n",
       "      <th>balance</th>\n",
       "      <th>housing</th>\n",
       "      <th>loan</th>\n",
       "      <th>contact</th>\n",
       "      <th>day</th>\n",
       "      <th>month</th>\n",
       "      <th>duration</th>\n",
       "      <th>campaign</th>\n",
       "      <th>pdays</th>\n",
       "      <th>previous</th>\n",
       "      <th>poutcome</th>\n",
       "      <th>y</th>\n",
       "    </tr>\n",
       "  </thead>\n",
       "  <tbody>\n",
       "    <tr>\n",
       "      <th>0</th>\n",
       "      <td>30</td>\n",
       "      <td>unemployed</td>\n",
       "      <td>married</td>\n",
       "      <td>primary</td>\n",
       "      <td>False</td>\n",
       "      <td>1787</td>\n",
       "      <td>False</td>\n",
       "      <td>False</td>\n",
       "      <td>cellular</td>\n",
       "      <td>19</td>\n",
       "      <td>oct</td>\n",
       "      <td>79</td>\n",
       "      <td>1</td>\n",
       "      <td>-1</td>\n",
       "      <td>0</td>\n",
       "      <td>unknown</td>\n",
       "      <td>False</td>\n",
       "    </tr>\n",
       "    <tr>\n",
       "      <th>1</th>\n",
       "      <td>33</td>\n",
       "      <td>services</td>\n",
       "      <td>married</td>\n",
       "      <td>secondary</td>\n",
       "      <td>False</td>\n",
       "      <td>4789</td>\n",
       "      <td>True</td>\n",
       "      <td>True</td>\n",
       "      <td>cellular</td>\n",
       "      <td>11</td>\n",
       "      <td>may</td>\n",
       "      <td>220</td>\n",
       "      <td>1</td>\n",
       "      <td>339</td>\n",
       "      <td>4</td>\n",
       "      <td>failure</td>\n",
       "      <td>False</td>\n",
       "    </tr>\n",
       "    <tr>\n",
       "      <th>2</th>\n",
       "      <td>35</td>\n",
       "      <td>management</td>\n",
       "      <td>single</td>\n",
       "      <td>tertiary</td>\n",
       "      <td>False</td>\n",
       "      <td>1350</td>\n",
       "      <td>True</td>\n",
       "      <td>False</td>\n",
       "      <td>cellular</td>\n",
       "      <td>16</td>\n",
       "      <td>apr</td>\n",
       "      <td>185</td>\n",
       "      <td>1</td>\n",
       "      <td>330</td>\n",
       "      <td>1</td>\n",
       "      <td>failure</td>\n",
       "      <td>False</td>\n",
       "    </tr>\n",
       "    <tr>\n",
       "      <th>3</th>\n",
       "      <td>30</td>\n",
       "      <td>management</td>\n",
       "      <td>married</td>\n",
       "      <td>tertiary</td>\n",
       "      <td>False</td>\n",
       "      <td>1476</td>\n",
       "      <td>True</td>\n",
       "      <td>True</td>\n",
       "      <td>unknown</td>\n",
       "      <td>3</td>\n",
       "      <td>jun</td>\n",
       "      <td>199</td>\n",
       "      <td>4</td>\n",
       "      <td>-1</td>\n",
       "      <td>0</td>\n",
       "      <td>unknown</td>\n",
       "      <td>False</td>\n",
       "    </tr>\n",
       "    <tr>\n",
       "      <th>4</th>\n",
       "      <td>59</td>\n",
       "      <td>blue-collar</td>\n",
       "      <td>married</td>\n",
       "      <td>secondary</td>\n",
       "      <td>False</td>\n",
       "      <td>0</td>\n",
       "      <td>True</td>\n",
       "      <td>False</td>\n",
       "      <td>unknown</td>\n",
       "      <td>5</td>\n",
       "      <td>may</td>\n",
       "      <td>226</td>\n",
       "      <td>1</td>\n",
       "      <td>-1</td>\n",
       "      <td>0</td>\n",
       "      <td>unknown</td>\n",
       "      <td>False</td>\n",
       "    </tr>\n",
       "    <tr>\n",
       "      <th>...</th>\n",
       "      <td>...</td>\n",
       "      <td>...</td>\n",
       "      <td>...</td>\n",
       "      <td>...</td>\n",
       "      <td>...</td>\n",
       "      <td>...</td>\n",
       "      <td>...</td>\n",
       "      <td>...</td>\n",
       "      <td>...</td>\n",
       "      <td>...</td>\n",
       "      <td>...</td>\n",
       "      <td>...</td>\n",
       "      <td>...</td>\n",
       "      <td>...</td>\n",
       "      <td>...</td>\n",
       "      <td>...</td>\n",
       "      <td>...</td>\n",
       "    </tr>\n",
       "    <tr>\n",
       "      <th>4516</th>\n",
       "      <td>33</td>\n",
       "      <td>services</td>\n",
       "      <td>married</td>\n",
       "      <td>secondary</td>\n",
       "      <td>False</td>\n",
       "      <td>-333</td>\n",
       "      <td>True</td>\n",
       "      <td>False</td>\n",
       "      <td>cellular</td>\n",
       "      <td>30</td>\n",
       "      <td>jul</td>\n",
       "      <td>329</td>\n",
       "      <td>5</td>\n",
       "      <td>-1</td>\n",
       "      <td>0</td>\n",
       "      <td>unknown</td>\n",
       "      <td>False</td>\n",
       "    </tr>\n",
       "    <tr>\n",
       "      <th>4517</th>\n",
       "      <td>57</td>\n",
       "      <td>self-employed</td>\n",
       "      <td>married</td>\n",
       "      <td>tertiary</td>\n",
       "      <td>True</td>\n",
       "      <td>-3313</td>\n",
       "      <td>True</td>\n",
       "      <td>True</td>\n",
       "      <td>unknown</td>\n",
       "      <td>9</td>\n",
       "      <td>may</td>\n",
       "      <td>153</td>\n",
       "      <td>1</td>\n",
       "      <td>-1</td>\n",
       "      <td>0</td>\n",
       "      <td>unknown</td>\n",
       "      <td>False</td>\n",
       "    </tr>\n",
       "    <tr>\n",
       "      <th>4518</th>\n",
       "      <td>57</td>\n",
       "      <td>technician</td>\n",
       "      <td>married</td>\n",
       "      <td>secondary</td>\n",
       "      <td>False</td>\n",
       "      <td>295</td>\n",
       "      <td>False</td>\n",
       "      <td>False</td>\n",
       "      <td>cellular</td>\n",
       "      <td>19</td>\n",
       "      <td>aug</td>\n",
       "      <td>151</td>\n",
       "      <td>11</td>\n",
       "      <td>-1</td>\n",
       "      <td>0</td>\n",
       "      <td>unknown</td>\n",
       "      <td>False</td>\n",
       "    </tr>\n",
       "    <tr>\n",
       "      <th>4519</th>\n",
       "      <td>28</td>\n",
       "      <td>blue-collar</td>\n",
       "      <td>married</td>\n",
       "      <td>secondary</td>\n",
       "      <td>False</td>\n",
       "      <td>1137</td>\n",
       "      <td>False</td>\n",
       "      <td>False</td>\n",
       "      <td>cellular</td>\n",
       "      <td>6</td>\n",
       "      <td>feb</td>\n",
       "      <td>129</td>\n",
       "      <td>4</td>\n",
       "      <td>211</td>\n",
       "      <td>3</td>\n",
       "      <td>other</td>\n",
       "      <td>False</td>\n",
       "    </tr>\n",
       "    <tr>\n",
       "      <th>4520</th>\n",
       "      <td>44</td>\n",
       "      <td>entrepreneur</td>\n",
       "      <td>single</td>\n",
       "      <td>tertiary</td>\n",
       "      <td>False</td>\n",
       "      <td>1136</td>\n",
       "      <td>True</td>\n",
       "      <td>True</td>\n",
       "      <td>cellular</td>\n",
       "      <td>3</td>\n",
       "      <td>apr</td>\n",
       "      <td>345</td>\n",
       "      <td>2</td>\n",
       "      <td>249</td>\n",
       "      <td>7</td>\n",
       "      <td>other</td>\n",
       "      <td>False</td>\n",
       "    </tr>\n",
       "  </tbody>\n",
       "</table>\n",
       "<p>4521 rows × 17 columns</p>\n",
       "</div>"
      ],
      "text/plain": [
       "      age            job  marital  education  default  balance  housing  \\\n",
       "0      30     unemployed  married    primary    False     1787    False   \n",
       "1      33       services  married  secondary    False     4789     True   \n",
       "2      35     management   single   tertiary    False     1350     True   \n",
       "3      30     management  married   tertiary    False     1476     True   \n",
       "4      59    blue-collar  married  secondary    False        0     True   \n",
       "...   ...            ...      ...        ...      ...      ...      ...   \n",
       "4516   33       services  married  secondary    False     -333     True   \n",
       "4517   57  self-employed  married   tertiary     True    -3313     True   \n",
       "4518   57     technician  married  secondary    False      295    False   \n",
       "4519   28    blue-collar  married  secondary    False     1137    False   \n",
       "4520   44   entrepreneur   single   tertiary    False     1136     True   \n",
       "\n",
       "       loan   contact  day month  duration  campaign  pdays  previous  \\\n",
       "0     False  cellular   19   oct        79         1     -1         0   \n",
       "1      True  cellular   11   may       220         1    339         4   \n",
       "2     False  cellular   16   apr       185         1    330         1   \n",
       "3      True   unknown    3   jun       199         4     -1         0   \n",
       "4     False   unknown    5   may       226         1     -1         0   \n",
       "...     ...       ...  ...   ...       ...       ...    ...       ...   \n",
       "4516  False  cellular   30   jul       329         5     -1         0   \n",
       "4517   True   unknown    9   may       153         1     -1         0   \n",
       "4518  False  cellular   19   aug       151        11     -1         0   \n",
       "4519  False  cellular    6   feb       129         4    211         3   \n",
       "4520   True  cellular    3   apr       345         2    249         7   \n",
       "\n",
       "     poutcome      y  \n",
       "0     unknown  False  \n",
       "1     failure  False  \n",
       "2     failure  False  \n",
       "3     unknown  False  \n",
       "4     unknown  False  \n",
       "...       ...    ...  \n",
       "4516  unknown  False  \n",
       "4517  unknown  False  \n",
       "4518  unknown  False  \n",
       "4519    other  False  \n",
       "4520    other  False  \n",
       "\n",
       "[4521 rows x 17 columns]"
      ]
     },
     "execution_count": 8,
     "metadata": {},
     "output_type": "execute_result"
    }
   ],
   "source": [
    "bank_data"
   ]
  },
  {
   "cell_type": "code",
   "execution_count": 9,
   "metadata": {},
   "outputs": [
    {
     "data": {
      "text/plain": [
       "(4521, 17)"
      ]
     },
     "execution_count": 9,
     "metadata": {},
     "output_type": "execute_result"
    }
   ],
   "source": [
    "bank_data.shape"
   ]
  },
  {
   "cell_type": "code",
   "execution_count": 10,
   "metadata": {},
   "outputs": [
    {
     "data": {
      "image/png": "[encoded data removed]",
      "text/plain": [
       "<Figure size 432x288 with 1 Axes>"
      ]
     },
     "metadata": {
      "needs_background": "light"
     },
     "output_type": "display_data"
    }
   ],
   "source": [
    "plt.hist(bank_data.age, bins = 20)\n",
    "plt.xlabel(\"Age\")\n",
    "plt.show()"
   ]
  },
  {
   "cell_type": "code",
   "execution_count": 11,
   "metadata": {},
   "outputs": [
    {
     "data": {
      "text/plain": [
       "age           int64\n",
       "job          object\n",
       "marital      object\n",
       "education    object\n",
       "default        bool\n",
       "balance       int64\n",
       "housing        bool\n",
       "loan           bool\n",
       "contact      object\n",
       "day           int64\n",
       "month        object\n",
       "duration      int64\n",
       "campaign      int64\n",
       "pdays         int64\n",
       "previous      int64\n",
       "poutcome     object\n",
       "y              bool\n",
       "dtype: object"
      ]
     },
     "execution_count": 11,
     "metadata": {},
     "output_type": "execute_result"
    }
   ],
   "source": [
    "bank_data.dtypes"
   ]
  },
  {
   "cell_type": "code",
   "execution_count": 12,
   "metadata": {},
   "outputs": [],
   "source": [
    "bank_data = pd.get_dummies(bank_data)"
   ]
  },
  {
   "cell_type": "code",
   "execution_count": 13,
   "metadata": {},
   "outputs": [
    {
     "data": {
      "text/plain": [
       "(4521, 49)"
      ]
     },
     "execution_count": 13,
     "metadata": {},
     "output_type": "execute_result"
    }
   ],
   "source": [
    "bank_data.shape"
   ]
  },
  {
   "cell_type": "code",
   "execution_count": 14,
   "metadata": {},
   "outputs": [],
   "source": [
    "bank_data = bank_data.astype(np.float64)"
   ]
  },
  {
   "cell_type": "code",
   "execution_count": 15,
   "metadata": {},
   "outputs": [
    {
     "data": {
      "text/plain": [
       "age                    float64\n",
       "default                float64\n",
       "balance                float64\n",
       "housing                float64\n",
       "loan                   float64\n",
       "day                    float64\n",
       "duration               float64\n",
       "campaign               float64\n",
       "pdays                  float64\n",
       "previous               float64\n",
       "y                      float64\n",
       "job_admin.             float64\n",
       "job_blue-collar        float64\n",
       "job_entrepreneur       float64\n",
       "job_housemaid          float64\n",
       "job_management         float64\n",
       "job_retired            float64\n",
       "job_self-employed      float64\n",
       "job_services           float64\n",
       "job_student            float64\n",
       "job_technician         float64\n",
       "job_unemployed         float64\n",
       "job_unknown            float64\n",
       "marital_divorced       float64\n",
       "marital_married        float64\n",
       "marital_single         float64\n",
       "education_primary      float64\n",
       "education_secondary    float64\n",
       "education_tertiary     float64\n",
       "education_unknown      float64\n",
       "contact_cellular       float64\n",
       "contact_telephone      float64\n",
       "contact_unknown        float64\n",
       "month_apr              float64\n",
       "month_aug              float64\n",
       "month_dec              float64\n",
       "month_feb              float64\n",
       "month_jan              float64\n",
       "month_jul              float64\n",
       "month_jun              float64\n",
       "month_mar              float64\n",
       "month_may              float64\n",
       "month_nov              float64\n",
       "month_oct              float64\n",
       "month_sep              float64\n",
       "poutcome_failure       float64\n",
       "poutcome_other         float64\n",
       "poutcome_success       float64\n",
       "poutcome_unknown       float64\n",
       "dtype: object"
      ]
     },
     "execution_count": 15,
     "metadata": {},
     "output_type": "execute_result"
    }
   ],
   "source": [
    "bank_data.dtypes"
   ]
  },
  {
   "cell_type": "code",
   "execution_count": 16,
   "metadata": {},
   "outputs": [],
   "source": [
    "attributes = bank_data.drop([\"y\"], axis = 1)"
   ]
  },
  {
   "cell_type": "code",
   "execution_count": 17,
   "metadata": {},
   "outputs": [],
   "source": [
    "labels = bank_data[\"y\"]"
   ]
  },
  {
   "cell_type": "code",
   "execution_count": 18,
   "metadata": {},
   "outputs": [],
   "source": [
    "min_max_scale = lambda col: (col - tf.reduce_min(col)) / (tf.reduce_max(col) - tf.reduce_min(col))"
   ]
  },
  {
   "cell_type": "code",
   "execution_count": 19,
   "metadata": {},
   "outputs": [],
   "source": [
    "num_columns = attributes.shape[1]\n",
    "transformed_columns = [min_max_scale(attributes.values[:, i]) for i in range(num_columns)]"
   ]
  },
  {
   "cell_type": "code",
   "execution_count": 20,
   "metadata": {},
   "outputs": [],
   "source": [
    "bank_data_transformed = tf.stack(transformed_columns, axis = 1)"
   ]
  },
  {
   "cell_type": "code",
   "execution_count": 21,
   "metadata": {},
   "outputs": [
    {
     "data": {
      "image/png": "[encoded data removed]",
      "text/plain": [
       "<Figure size 432x288 with 1 Axes>"
      ]
     },
     "metadata": {
      "needs_background": "light"
     },
     "output_type": "display_data"
    }
   ],
   "source": [
    "plt.hist(bank_data_transformed.numpy()[:, 0], bins = 20)\n",
    "plt.show()"
   ]
  },
  {
   "cell_type": "code",
   "execution_count": 22,
   "metadata": {},
   "outputs": [
    {
     "data": {
      "text/plain": [
       "TensorShape([4521, 48])"
      ]
     },
     "execution_count": 22,
     "metadata": {},
     "output_type": "execute_result"
    }
   ],
   "source": [
    "bank_data_transformed.shape"
   ]
  },
  {
   "cell_type": "code",
   "execution_count": 23,
   "metadata": {},
   "outputs": [],
   "source": [
    "labels = labels.astype(int).values"
   ]
  },
  {
   "cell_type": "code",
   "execution_count": 24,
   "metadata": {},
   "outputs": [],
   "source": [
    "labels_onehot = tf.one_hot(labels, depth = 2)"
   ]
  },
  {
   "cell_type": "code",
   "execution_count": 25,
   "metadata": {},
   "outputs": [],
   "source": [
    "logistic_regression = Sequential([\n",
    "    Input(shape = num_columns),\n",
    "    Dense(2, activation = \"sigmoid\")\n",
    "])"
   ]
  },
  {
   "cell_type": "code",
   "execution_count": 26,
   "metadata": {},
   "outputs": [
    {
     "name": "stdout",
     "output_type": "stream",
     "text": [
      "Model: \"sequential\"\n",
      "_________________________________________________________________\n",
      "Layer (type)                 Output Shape              Param #   \n",
      "=================================================================\n",
      "dense (Dense)                (None, 2)                 98        \n",
      "=================================================================\n",
      "Total params: 98\n",
      "Trainable params: 98\n",
      "Non-trainable params: 0\n",
      "_________________________________________________________________\n"
     ]
    }
   ],
   "source": [
    "logistic_regression.summary()"
   ]
  },
  {
   "cell_type": "code",
   "execution_count": 27,
   "metadata": {},
   "outputs": [],
   "source": [
    "logistic_regression.compile(optimizer = \"adam\", loss = \"categorical_crossentropy\")"
   ]
  },
  {
   "cell_type": "code",
   "execution_count": 28,
   "metadata": {},
   "outputs": [
    {
     "name": "stdout",
     "output_type": "stream",
     "text": [
      "Train on 4521 samples\n",
      "Epoch 1/10\n",
      "4521/4521 [==============================] - 1s 319us/sample - loss: 0.5413\n",
      "Epoch 2/10\n",
      "4521/4521 [==============================] - 0s 76us/sample - loss: 0.3941\n",
      "Epoch 3/10\n",
      "4521/4521 [==============================] - 0s 81us/sample - loss: 0.3571\n",
      "Epoch 4/10\n",
      "4521/4521 [==============================] - 0s 81us/sample - loss: 0.3438\n",
      "Epoch 5/10\n",
      "4521/4521 [==============================] - 0s 72us/sample - loss: 0.3358\n",
      "Epoch 6/10\n",
      "4521/4521 [==============================] - 0s 77us/sample - loss: 0.3294\n",
      "Epoch 7/10\n",
      "4521/4521 [==============================] - 0s 72us/sample - loss: 0.3239\n",
      "Epoch 8/10\n",
      "4521/4521 [==============================] - 0s 73us/sample - loss: 0.3190\n",
      "Epoch 9/10\n",
      "4521/4521 [==============================] - 0s 71us/sample - loss: 0.3147\n",
      "Epoch 10/10\n",
      "4521/4521 [==============================] - 0s 72us/sample - loss: 0.3108\n"
     ]
    },
    {
     "data": {
      "text/plain": [
       "<tensorflow.python.keras.callbacks.History at 0x211ed7c7dc8>"
      ]
     },
     "execution_count": 28,
     "metadata": {},
     "output_type": "execute_result"
    }
   ],
   "source": [
    "logistic_regression.fit(x = bank_data_transformed, y = labels_onehot, epochs = 10)"
   ]
  },
  {
   "cell_type": "code",
   "execution_count": 29,
   "metadata": {},
   "outputs": [
    {
     "data": {
      "text/plain": [
       "<tf.Variable 'dense/kernel:0' shape=(48, 2) dtype=float32, numpy=\n",
       "array([[-0.00541852, -0.06579532],\n",
       "       [ 0.29929292,  0.16340262],\n",
       "       [ 0.05071618, -0.52371687],\n",
       "       [ 0.33061892, -0.45253876],\n",
       "       [ 0.03358259, -0.4654528 ],\n",
       "       [-0.24648482, -0.42038235],\n",
       "       [-0.8680444 ,  0.66851676],\n",
       "       [ 0.17056197, -0.24075955],\n",
       "       [ 0.00507716, -0.18021426],\n",
       "       [-0.13172355,  0.31219843],\n",
       "       [-0.14522241, -0.21452634],\n",
       "       [ 0.4725276 , -0.43746105],\n",
       "       [ 0.2316534 , -0.37466612],\n",
       "       [ 0.00301334, -0.06800722],\n",
       "       [-0.11018292, -0.1375865 ],\n",
       "       [ 0.05484292,  0.24534829],\n",
       "       [ 0.2192383 ,  0.02324738],\n",
       "       [ 0.07076136, -0.09907352],\n",
       "       [-0.02361049,  0.21390328],\n",
       "       [ 0.18141864, -0.08573345],\n",
       "       [ 0.21884018, -0.02630089],\n",
       "       [-0.322581  , -0.32310504],\n",
       "       [ 0.02307489,  0.00611686],\n",
       "       [ 0.09698725, -0.21429873],\n",
       "       [ 0.28648397, -0.03434074],\n",
       "       [ 0.43386343, -0.31952927],\n",
       "       [ 0.06648189, -0.39413   ],\n",
       "       [-0.1941438 , -0.39750552],\n",
       "       [ 0.47632003, -0.2353999 ],\n",
       "       [ 0.09997822, -0.26363307],\n",
       "       [ 0.32922927, -0.09390153],\n",
       "       [ 0.3374914 , -0.45318845],\n",
       "       [-0.06920339,  0.27413237],\n",
       "       [ 0.0849501 , -0.27034706],\n",
       "       [-0.23373151,  0.08357865],\n",
       "       [-0.08527327, -0.18330222],\n",
       "       [ 0.31803018, -0.19837868],\n",
       "       [ 0.57227856, -0.12696517],\n",
       "       [ 0.45351094, -0.23251899],\n",
       "       [-0.40438622,  0.36838394],\n",
       "       [ 0.24622442, -0.2754364 ],\n",
       "       [-0.05880807, -0.4062181 ],\n",
       "       [-0.18380776,  0.41233438],\n",
       "       [-0.05983478,  0.4364098 ],\n",
       "       [ 0.36128196,  0.00667681],\n",
       "       [ 0.02977888,  0.09280307],\n",
       "       [-0.92872494,  0.4068145 ],\n",
       "       [-0.04231488, -0.5903541 ]], dtype=float32)>"
      ]
     },
     "execution_count": 29,
     "metadata": {},
     "output_type": "execute_result"
    }
   ],
   "source": [
    "logistic_regression.layers[0].kernel"
   ]
  },
  {
   "cell_type": "code",
   "execution_count": 30,
   "metadata": {},
   "outputs": [],
   "source": [
    "neural_network = Sequential([\n",
    "    Input(shape = num_columns),\n",
    "    Dense(30, activation = \"relu\"),\n",
    "    Dense(20, activation = \"relu\"),\n",
    "    Dense(10, activation = \"relu\"),\n",
    "    Dense(2, activation = \"sigmoid\")\n",
    "])"
   ]
  },
  {
   "cell_type": "code",
   "execution_count": 31,
   "metadata": {},
   "outputs": [
    {
     "name": "stdout",
     "output_type": "stream",
     "text": [
      "Model: \"sequential_1\"\n",
      "_________________________________________________________________\n",
      "Layer (type)                 Output Shape              Param #   \n",
      "=================================================================\n",
      "dense_1 (Dense)              (None, 30)                1470      \n",
      "_________________________________________________________________\n",
      "dense_2 (Dense)              (None, 20)                620       \n",
      "_________________________________________________________________\n",
      "dense_3 (Dense)              (None, 10)                210       \n",
      "_________________________________________________________________\n",
      "dense_4 (Dense)              (None, 2)                 22        \n",
      "=================================================================\n",
      "Total params: 2,322\n",
      "Trainable params: 2,322\n",
      "Non-trainable params: 0\n",
      "_________________________________________________________________\n"
     ]
    }
   ],
   "source": [
    "neural_network.summary()"
   ]
  },
  {
   "cell_type": "code",
   "execution_count": 32,
   "metadata": {},
   "outputs": [],
   "source": [
    "neural_network.compile(optimizer = \"adam\", loss = \"categorical_crossentropy\")"
   ]
  },
  {
   "cell_type": "code",
   "execution_count": 34,
   "metadata": {},
   "outputs": [
    {
     "name": "stdout",
     "output_type": "stream",
     "text": [
      "Train on 4521 samples\n",
      "Epoch 1/10\n",
      "4521/4521 [==============================] - 0s 89us/sample - loss: 0.2056\n",
      "Epoch 2/10\n",
      "4521/4521 [==============================] - 0s 82us/sample - loss: 0.2012\n",
      "Epoch 3/10\n",
      "4521/4521 [==============================] - 0s 85us/sample - loss: 0.1969\n",
      "Epoch 4/10\n",
      "4521/4521 [==============================] - 0s 78us/sample - loss: 0.1925\n",
      "Epoch 5/10\n",
      "4521/4521 [==============================] - 0s 77us/sample - loss: 0.1914\n",
      "Epoch 6/10\n",
      "4521/4521 [==============================] - 0s 79us/sample - loss: 0.1870\n",
      "Epoch 7/10\n",
      "4521/4521 [==============================] - 0s 82us/sample - loss: 0.1822\n",
      "Epoch 8/10\n",
      "4521/4521 [==============================] - 0s 77us/sample - loss: 0.1807\n",
      "Epoch 9/10\n",
      "4521/4521 [==============================] - 0s 82us/sample - loss: 0.1757\n",
      "Epoch 10/10\n",
      "4521/4521 [==============================] - 0s 78us/sample - loss: 0.1741\n"
     ]
    },
    {
     "data": {
      "text/plain": [
       "<tensorflow.python.keras.callbacks.History at 0x211f52ff848>"
      ]
     },
     "execution_count": 34,
     "metadata": {},
     "output_type": "execute_result"
    }
   ],
   "source": [
    "neural_network.fit(x = bank_data_transformed, y = labels_onehot, epochs = 10)"
   ]
  },
  {
   "cell_type": "code",
   "execution_count": null,
   "metadata": {},
   "outputs": [],
   "source": []
  }
 ],
 "metadata": {
  "kernelspec": {
   "display_name": "Python 3",
   "language": "python",
   "name": "python3"
  },
  "language_info": {
   "codemirror_mode": {
    "name": "ipython",
    "version": 3
   },
   "file_extension": ".py",
   "mimetype": "text/x-python",
   "name": "python",
   "nbconvert_exporter": "python",
   "pygments_lexer": "ipython3",
   "version": "3.7.9"
  }
 },
 "nbformat": 4,
 "nbformat_minor": 4
}
