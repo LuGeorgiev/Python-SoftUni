{
 "cells": [
  {
   "cell_type": "code",
   "execution_count": 2,
   "metadata": {},
   "outputs": [],
   "source": [
    "%matplotlib inline"
   ]
  },
  {
   "cell_type": "code",
   "execution_count": 33,
   "metadata": {},
   "outputs": [],
   "source": [
    "import numpy as np\n",
    "import pandas as pd\n",
    "import matplotlib.pyplot as plt\n",
    "\n",
    "import tensorflow as tf\n",
    "from tensorflow.keras.models import Sequential\n",
    "from tensorflow.keras.layers import Input, Dense, Dropout\n",
    "from tensorflow.keras.regularizers import L1L2"
   ]
  },
  {
   "cell_type": "markdown",
   "metadata": {},
   "source": [
    "# Training and improving neural networks\n",
    "## Live Demo"
   ]
  },
  {
   "cell_type": "code",
   "execution_count": 6,
   "metadata": {},
   "outputs": [],
   "source": [
    "fashon_data = pd.read_csv(\"data/train42000.csv\")"
   ]
  },
  {
   "cell_type": "code",
   "execution_count": 17,
   "metadata": {},
   "outputs": [
    {
     "data": {
      "text/html": [
       "<div>\n",
       "<style scoped>\n",
       "    .dataframe tbody tr th:only-of-type {\n",
       "        vertical-align: middle;\n",
       "    }\n",
       "\n",
       "    .dataframe tbody tr th {\n",
       "        vertical-align: top;\n",
       "    }\n",
       "\n",
       "    .dataframe thead th {\n",
       "        text-align: right;\n",
       "    }\n",
       "</style>\n",
       "<table border=\"1\" class=\"dataframe\">\n",
       "  <thead>\n",
       "    <tr style=\"text-align: right;\">\n",
       "      <th></th>\n",
       "      <th>label</th>\n",
       "      <th>pixel0</th>\n",
       "      <th>pixel1</th>\n",
       "      <th>pixel2</th>\n",
       "      <th>pixel3</th>\n",
       "      <th>pixel4</th>\n",
       "      <th>pixel5</th>\n",
       "      <th>pixel6</th>\n",
       "      <th>pixel7</th>\n",
       "      <th>pixel8</th>\n",
       "      <th>...</th>\n",
       "      <th>pixel774</th>\n",
       "      <th>pixel775</th>\n",
       "      <th>pixel776</th>\n",
       "      <th>pixel777</th>\n",
       "      <th>pixel778</th>\n",
       "      <th>pixel779</th>\n",
       "      <th>pixel780</th>\n",
       "      <th>pixel781</th>\n",
       "      <th>pixel782</th>\n",
       "      <th>pixel783</th>\n",
       "    </tr>\n",
       "  </thead>\n",
       "  <tbody>\n",
       "    <tr>\n",
       "      <th>38521</th>\n",
       "      <td>1</td>\n",
       "      <td>0</td>\n",
       "      <td>0</td>\n",
       "      <td>0</td>\n",
       "      <td>0</td>\n",
       "      <td>0</td>\n",
       "      <td>0</td>\n",
       "      <td>0</td>\n",
       "      <td>0</td>\n",
       "      <td>0</td>\n",
       "      <td>...</td>\n",
       "      <td>0</td>\n",
       "      <td>0</td>\n",
       "      <td>0</td>\n",
       "      <td>0</td>\n",
       "      <td>0</td>\n",
       "      <td>0</td>\n",
       "      <td>0</td>\n",
       "      <td>0</td>\n",
       "      <td>0</td>\n",
       "      <td>0</td>\n",
       "    </tr>\n",
       "    <tr>\n",
       "      <th>31958</th>\n",
       "      <td>3</td>\n",
       "      <td>0</td>\n",
       "      <td>0</td>\n",
       "      <td>0</td>\n",
       "      <td>0</td>\n",
       "      <td>0</td>\n",
       "      <td>0</td>\n",
       "      <td>0</td>\n",
       "      <td>0</td>\n",
       "      <td>0</td>\n",
       "      <td>...</td>\n",
       "      <td>0</td>\n",
       "      <td>0</td>\n",
       "      <td>0</td>\n",
       "      <td>0</td>\n",
       "      <td>0</td>\n",
       "      <td>0</td>\n",
       "      <td>0</td>\n",
       "      <td>0</td>\n",
       "      <td>0</td>\n",
       "      <td>0</td>\n",
       "    </tr>\n",
       "  </tbody>\n",
       "</table>\n",
       "<p>2 rows × 785 columns</p>\n",
       "</div>"
      ],
      "text/plain": [
       "       label  pixel0  pixel1  pixel2  pixel3  pixel4  pixel5  pixel6  pixel7  \\\n",
       "38521      1       0       0       0       0       0       0       0       0   \n",
       "31958      3       0       0       0       0       0       0       0       0   \n",
       "\n",
       "       pixel8  ...  pixel774  pixel775  pixel776  pixel777  pixel778  \\\n",
       "38521       0  ...         0         0         0         0         0   \n",
       "31958       0  ...         0         0         0         0         0   \n",
       "\n",
       "       pixel779  pixel780  pixel781  pixel782  pixel783  \n",
       "38521         0         0         0         0         0  \n",
       "31958         0         0         0         0         0  \n",
       "\n",
       "[2 rows x 785 columns]"
      ]
     },
     "execution_count": 17,
     "metadata": {},
     "output_type": "execute_result"
    }
   ],
   "source": [
    "fashon_data.sample(2)"
   ]
  },
  {
   "cell_type": "code",
   "execution_count": 8,
   "metadata": {},
   "outputs": [],
   "source": [
    "test_sampe = fashon_data.sample(10)"
   ]
  },
  {
   "cell_type": "code",
   "execution_count": 16,
   "metadata": {},
   "outputs": [
    {
     "data": {
      "image/png": "[encoded data removed]",
      "text/plain": [
       "<Figure size 432x288 with 1 Axes>"
      ]
     },
     "metadata": {
      "needs_background": "light"
     },
     "output_type": "display_data"
    },
    {
     "data": {
      "image/png": "[encoded data removed]",
      "text/plain": [
       "<Figure size 432x288 with 1 Axes>"
      ]
     },
     "metadata": {
      "needs_background": "light"
     },
     "output_type": "display_data"
    },
    {
     "data": {
      "image/png": "[encoded data removed]",
      "text/plain": [
       "<Figure size 432x288 with 1 Axes>"
      ]
     },
     "metadata": {
      "needs_background": "light"
     },
     "output_type": "display_data"
    },
    {
     "data": {
      "image/png": "[encoded data removed]",
      "text/plain": [
       "<Figure size 432x288 with 1 Axes>"
      ]
     },
     "metadata": {
      "needs_background": "light"
     },
     "output_type": "display_data"
    },
    {
     "data": {
      "image/png": "[encoded data removed]",
      "text/plain": [
       "<Figure size 432x288 with 1 Axes>"
      ]
     },
     "metadata": {
      "needs_background": "light"
     },
     "output_type": "display_data"
    },
    {
     "data": {
      "image/png": "[encoded data removed]",
      "text/plain": [
       "<Figure size 432x288 with 1 Axes>"
      ]
     },
     "metadata": {
      "needs_background": "light"
     },
     "output_type": "display_data"
    },
    {
     "data": {
      "image/png": "[encoded data removed]",
      "text/plain": [
       "<Figure size 432x288 with 1 Axes>"
      ]
     },
     "metadata": {
      "needs_background": "light"
     },
     "output_type": "display_data"
    },
    {
     "data": {
      "image/png": "[encoded data removed]",
      "text/plain": [
       "<Figure size 432x288 with 1 Axes>"
      ]
     },
     "metadata": {
      "needs_background": "light"
     },
     "output_type": "display_data"
    },
    {
     "data": {
      "image/png": "[encoded data removed]",
      "text/plain": [
       "<Figure size 432x288 with 1 Axes>"
      ]
     },
     "metadata": {
      "needs_background": "light"
     },
     "output_type": "display_data"
    },
    {
     "data": {
      "image/png": "[encoded data removed]",
      "text/plain": [
       "<Figure size 432x288 with 1 Axes>"
      ]
     },
     "metadata": {
      "needs_background": "light"
     },
     "output_type": "display_data"
    }
   ],
   "source": [
    "for index, row in test_sampe.iterrows():\n",
    "    row_values = row.values\n",
    "    label = row_values[0]\n",
    "    row_values = row_values[1:].reshape((28, 28))\n",
    "    \n",
    "    plt.imshow(row_values, cmap = \"gray\")\n",
    "    plt.title(label)\n",
    "    plt.show()"
   ]
  },
  {
   "cell_type": "code",
   "execution_count": 18,
   "metadata": {},
   "outputs": [],
   "source": [
    "fashion_attributes = fashon_data.drop(\"label\", axis = 1).values\n",
    "fashion_labels = fashon_data.label.values\n",
    "# with VALUES we will use numpay arrays and will be easier to Scale them"
   ]
  },
  {
   "cell_type": "markdown",
   "metadata": {},
   "source": [
    "#### Scale 0-1(255)"
   ]
  },
  {
   "cell_type": "code",
   "execution_count": 19,
   "metadata": {},
   "outputs": [
    {
     "name": "stdout",
     "output_type": "stream",
     "text": [
      "pixel0      0.0\n",
      "pixel1      0.0\n",
      "pixel2      0.0\n",
      "pixel3      0.0\n",
      "pixel4      0.0\n",
      "           ... \n",
      "pixel779    0.0\n",
      "pixel780    0.0\n",
      "pixel781    0.0\n",
      "pixel782    0.0\n",
      "pixel783    0.0\n",
      "Length: 784, dtype: float64\n",
      "pixel0      0.062745\n",
      "pixel1      0.176471\n",
      "pixel2      0.854902\n",
      "pixel3      0.725490\n",
      "pixel4      0.890196\n",
      "              ...   \n",
      "pixel779    1.000000\n",
      "pixel780    1.000000\n",
      "pixel781    1.000000\n",
      "pixel782    1.000000\n",
      "pixel783    0.666667\n",
      "Length: 784, dtype: float64\n"
     ]
    }
   ],
   "source": [
    "fashion_attributes = fashion_attributes.astype(np.float64) / 255.0\n",
    "print(fashion_attributes.min())\n",
    "print(fashion_attributes.max())"
   ]
  },
  {
   "cell_type": "code",
   "execution_count": 23,
   "metadata": {},
   "outputs": [],
   "source": [
    "NUM_COLUMNS = fashion_attributes.shape[1]\n",
    "NUM_LABELS = len(set(fashion_labels))"
   ]
  },
  {
   "cell_type": "code",
   "execution_count": 24,
   "metadata": {},
   "outputs": [],
   "source": [
    "nn_model = Sequential([\n",
    "    Input(NUM_COLUMNS),\n",
    "    Dense(20, activation = \"relu\"), # when activation functions is 0 this is linear regression\n",
    "    Dense(10, activation = \"relu\"),    \n",
    "    Dense(30, activation = \"relu\"),\n",
    "    Dense(NUM_LABELS, activation=\"softmax\")# 0-regression in last layer; sigmod - for classification of two classes\n",
    "])"
   ]
  },
  {
   "cell_type": "code",
   "execution_count": 22,
   "metadata": {},
   "outputs": [
    {
     "data": {
      "text/plain": [
       "10"
      ]
     },
     "execution_count": 22,
     "metadata": {},
     "output_type": "execute_result"
    }
   ],
   "source": [
    "len(set(fashion_labels)) # how mych lables are used in this set in for the last layer"
   ]
  },
  {
   "cell_type": "code",
   "execution_count": 25,
   "metadata": {},
   "outputs": [
    {
     "name": "stdout",
     "output_type": "stream",
     "text": [
      "Model: \"sequential\"\n",
      "_________________________________________________________________\n",
      "Layer (type)                 Output Shape              Param #   \n",
      "=================================================================\n",
      "dense (Dense)                (None, 20)                15700     \n",
      "_________________________________________________________________\n",
      "dense_1 (Dense)              (None, 10)                210       \n",
      "_________________________________________________________________\n",
      "dense_2 (Dense)              (None, 30)                330       \n",
      "_________________________________________________________________\n",
      "dense_3 (Dense)              (None, 10)                310       \n",
      "=================================================================\n",
      "Total params: 16,550\n",
      "Trainable params: 16,550\n",
      "Non-trainable params: 0\n",
      "_________________________________________________________________\n"
     ]
    }
   ],
   "source": [
    "nn_model.summary() # rank = 2 this is Output shape"
   ]
  },
  {
   "cell_type": "code",
   "execution_count": 28,
   "metadata": {},
   "outputs": [],
   "source": [
    "nn_model.compile(optimizer = \"adam\" ,\n",
    "                 loss = \"sparse_categorical_crossentropy\") #when lables are 0, 1, 2, etc "
   ]
  },
  {
   "cell_type": "code",
   "execution_count": 26,
   "metadata": {},
   "outputs": [
    {
     "data": {
      "text/plain": [
       "<tf.Tensor: shape=(42000, 10), dtype=float32, numpy=\n",
       "array([[0., 1., 0., ..., 0., 0., 0.],\n",
       "       [0., 1., 0., ..., 0., 0., 0.],\n",
       "       [0., 0., 0., ..., 0., 0., 1.],\n",
       "       ...,\n",
       "       [0., 1., 0., ..., 0., 0., 0.],\n",
       "       [0., 1., 0., ..., 0., 0., 0.],\n",
       "       [0., 0., 0., ..., 0., 0., 1.]], dtype=float32)>"
      ]
     },
     "execution_count": 26,
     "metadata": {},
     "output_type": "execute_result"
    }
   ],
   "source": [
    "tf.one_hot(fashion_labels, depth= 10) # this way categorical cross-entropy is needed for LOSS"
   ]
  },
  {
   "cell_type": "code",
   "execution_count": 29,
   "metadata": {},
   "outputs": [
    {
     "name": "stdout",
     "output_type": "stream",
     "text": [
      "Train on 42000 samples\n",
      "Epoch 1/20\n",
      "42000/42000 [==============================] - 5s 118us/sample - loss: 0.6855\n",
      "Epoch 2/20\n",
      "42000/42000 [==============================] - 3s 80us/sample - loss: 0.4528\n",
      "Epoch 3/20\n",
      "42000/42000 [==============================] - 3s 80us/sample - loss: 0.4151\n",
      "Epoch 4/20\n",
      "42000/42000 [==============================] - 3s 80us/sample - loss: 0.3936\n",
      "Epoch 5/20\n",
      "42000/42000 [==============================] - 3s 81us/sample - loss: 0.3768\n",
      "Epoch 6/20\n",
      "42000/42000 [==============================] - 3s 80us/sample - loss: 0.3642\n",
      "Epoch 7/20\n",
      "42000/42000 [==============================] - 3s 77us/sample - loss: 0.3512\n",
      "Epoch 8/20\n",
      "42000/42000 [==============================] - 3s 79us/sample - loss: 0.3447\n",
      "Epoch 9/20\n",
      "42000/42000 [==============================] - 3s 80us/sample - loss: 0.3365\n",
      "Epoch 10/20\n",
      "42000/42000 [==============================] - 3s 79us/sample - loss: 0.3283\n",
      "Epoch 11/20\n",
      "42000/42000 [==============================] - 3s 78us/sample - loss: 0.3244\n",
      "Epoch 12/20\n",
      "42000/42000 [==============================] - 3s 79us/sample - loss: 0.3182\n",
      "Epoch 13/20\n",
      "42000/42000 [==============================] - 3s 78us/sample - loss: 0.3130\n",
      "Epoch 14/20\n",
      "42000/42000 [==============================] - 3s 80us/sample - loss: 0.3077\n",
      "Epoch 15/20\n",
      "42000/42000 [==============================] - 3s 79us/sample - loss: 0.3064\n",
      "Epoch 16/20\n",
      "42000/42000 [==============================] - 3s 80us/sample - loss: 0.29910s - loss: 0.29\n",
      "Epoch 17/20\n",
      "42000/42000 [==============================] - 3s 77us/sample - loss: 0.29650s - loss: 0.29\n",
      "Epoch 18/20\n",
      "42000/42000 [==============================] - 3s 70us/sample - loss: 0.2930\n",
      "Epoch 19/20\n",
      "42000/42000 [==============================] - 3s 66us/sample - loss: 0.2905\n",
      "Epoch 20/20\n",
      "42000/42000 [==============================] - 3s 67us/sample - loss: 0.2851\n"
     ]
    },
    {
     "data": {
      "text/plain": [
       "<tensorflow.python.keras.callbacks.History at 0x1f73b332b88>"
      ]
     },
     "execution_count": 29,
     "metadata": {},
     "output_type": "execute_result"
    }
   ],
   "source": [
    "nn_model.fit(fashion_attributes, fashion_labels, epochs = 20)"
   ]
  },
  {
   "cell_type": "code",
   "execution_count": null,
   "metadata": {},
   "outputs": [],
   "source": [
    "# single EPOCHE is one forward and one backward cycle"
   ]
  },
  {
   "cell_type": "markdown",
   "metadata": {},
   "source": [
    "## Reguralization - L2 or L1"
   ]
  },
  {
   "cell_type": "code",
   "execution_count": 30,
   "metadata": {},
   "outputs": [
    {
     "data": {
      "text/plain": [
       "[<tf.Variable 'dense_1/kernel:0' shape=(20, 10) dtype=float32, numpy=\n",
       " array([[ 0.6996608 ,  0.01372772, -0.01310254,  0.07710408, -0.6874222 ,\n",
       "         -1.0363817 ,  0.01926682, -0.6829894 ,  0.42770526,  0.5348778 ],\n",
       "        [ 0.43915227, -0.29717323, -0.10500803, -0.32281446,  0.01654229,\n",
       "          0.04984588,  0.33017388, -0.27192137,  0.25183603, -0.08457375],\n",
       "        [ 0.09470236, -0.01155088,  0.20251308, -0.425558  ,  0.08368323,\n",
       "          0.17194273, -0.53869635,  0.15507187,  0.24148281,  0.1428442 ],\n",
       "        [ 0.3898066 ,  0.2719354 ,  0.04540868,  0.09918465,  0.48302785,\n",
       "         -0.34956902,  0.32206097,  0.2134435 ,  0.2661687 , -0.48185727],\n",
       "        [-0.19500403,  0.4620457 ,  0.7246656 , -0.33222914,  0.04057971,\n",
       "          0.31176838, -0.41132313,  0.6952442 ,  0.05767952,  0.06456292],\n",
       "        [-0.16678414, -0.5099452 , -0.5572084 ,  0.5391859 , -0.10845716,\n",
       "         -0.11715767,  0.50258946,  0.47283077, -0.35767448, -0.07261884],\n",
       "        [-0.51479286,  0.19867685, -0.22932462,  0.17496009, -0.01348163,\n",
       "         -0.20449792,  0.04756462,  0.2120251 ,  0.52272856, -0.416473  ],\n",
       "        [ 0.3232578 ,  0.13870265,  0.23482905,  0.32085446,  0.47326127,\n",
       "         -0.23568591, -0.3242355 , -0.94886965,  0.34557715, -0.67187345],\n",
       "        [-0.31841898, -0.32980055,  0.4986043 , -0.21665229,  0.24337335,\n",
       "          0.32441816,  0.3749721 ,  0.12049072, -0.34093243, -0.14703456],\n",
       "        [ 0.13264623,  0.34486946,  0.10276104,  0.17033027, -0.4216699 ,\n",
       "         -0.02958803,  0.20863968, -0.43266565, -0.44906962,  0.36979517],\n",
       "        [ 0.45450526,  0.36255944,  0.02662392,  0.34668788, -0.35319877,\n",
       "          0.67169744,  0.3970019 ,  0.5514772 , -0.31608903, -0.02506452],\n",
       "        [ 0.46752077, -0.10978911,  0.05505198,  0.7866204 ,  0.08557998,\n",
       "          0.0539602 , -0.5206523 , -0.02394513,  0.02039292,  0.42846572],\n",
       "        [ 0.16604641,  0.14284207,  0.4436379 ,  0.3407956 , -0.161977  ,\n",
       "          0.11808498,  0.24726881, -0.21251203,  0.11913957, -0.3813405 ],\n",
       "        [-0.34929493,  0.7886223 , -0.10538436, -0.32599068,  0.36625832,\n",
       "         -0.05276384, -0.33374885, -0.00350133, -0.24557531,  0.29027846],\n",
       "        [ 0.2391675 , -0.20328021, -0.13959067, -0.38661715,  0.05891419,\n",
       "          0.5549059 ,  0.25484064,  0.25548208,  0.46099702, -0.7053709 ],\n",
       "        [-0.21539715,  0.24257793, -0.2656154 ,  0.35915747, -0.1501319 ,\n",
       "          0.09894518,  0.23498192,  0.01520942, -0.40845147,  0.00655568],\n",
       "        [ 0.04985693,  0.10457937,  0.2046909 , -0.73685485,  0.37885875,\n",
       "          0.10577404,  0.00729906, -0.16089156,  0.02995918,  0.12021314],\n",
       "        [ 0.06904411,  0.4189602 ,  0.4374692 ,  0.55151004,  0.22295167,\n",
       "          0.37639207, -0.24086536,  0.2079554 ,  0.07751676,  0.02631395],\n",
       "        [ 0.11432982, -0.41336477, -0.6103068 , -0.23843637,  0.22287314,\n",
       "          0.66023403,  0.1709014 ,  0.2678158 , -0.05604246,  0.20490845],\n",
       "        [ 0.38520652, -0.05933345,  0.4985387 , -0.6146475 , -0.66554445,\n",
       "          0.32565784,  0.21224628,  0.59425175, -0.34337392, -0.4586363 ]],\n",
       "       dtype=float32)>,\n",
       " <tf.Variable 'dense_1/bias:0' shape=(10,) dtype=float32, numpy=\n",
       " array([ 0.508075  ,  0.08053397, -0.19440381, -0.20966019,  0.5163636 ,\n",
       "         0.49404395, -0.1482386 , -0.12745868,  0.46863073,  0.23246348],\n",
       "       dtype=float32)>]"
      ]
     },
     "execution_count": 30,
     "metadata": {},
     "output_type": "execute_result"
    }
   ],
   "source": [
    "nn_model.layers[1].weights"
   ]
  },
  {
   "cell_type": "code",
   "execution_count": 32,
   "metadata": {},
   "outputs": [],
   "source": [
    "reg = L1L2(l1=0.01, l2=0.0001)"
   ]
  },
  {
   "cell_type": "code",
   "execution_count": null,
   "metadata": {},
   "outputs": [],
   "source": [
    "nn_model = Sequential([\n",
    "    Input(NUM_COLUMNS),      # regul - kernel, reg-bias, activity_regularizer=\"\" reg - result  \n",
    "    Dense(20, activation = \"relu\", kernel_regularizer = reg, bias_regularizer = reg), \n",
    "    Dropout(0.1,)\n",
    "    Dense(10, activation = \"relu\", kernel_regularizer = reg, bias_regularizer = reg),  \n",
    "    Dropout(0.2) # this means 20% will be \"deleted\"\n",
    "    Dense(30, activation = \"relu\", kernel_regularizer = reg, bias_regularizer = reg),\n",
    "    Dense(NUM_LABELS, activation=\"softmax\", kernel_regularizer = reg, bias_regularizer = reg)\n",
    "])"
   ]
  },
  {
   "cell_type": "code",
   "execution_count": null,
   "metadata": {},
   "outputs": [],
   "source": [
    "# DROPOUT(0-1)1 is 100%. regularization is when we \"kill\" some of the neurons randonly on each epoches\n",
    "# DROPUT is active only when training. On test the whole network is included"
   ]
  },
  {
   "cell_type": "code",
   "execution_count": 37,
   "metadata": {},
   "outputs": [],
   "source": [
    "nn_model = Sequential([\n",
    "    Input(NUM_COLUMNS),     \n",
    "    Dense(20, activation = \"relu\"), \n",
    "    Dropout(0.1,),\n",
    "    Dense(10, activation = \"relu\"),  \n",
    "    Dropout(0.2), # this means 20% will be \"deleted\"\n",
    "    Dense(30, activation = \"relu\"),\n",
    "    Dropout(0.1,),\n",
    "    Dense(NUM_LABELS, activation=\"softmax\", kernel_regularizer = reg, bias_regularizer = reg)\n",
    "])"
   ]
  },
  {
   "cell_type": "code",
   "execution_count": 38,
   "metadata": {},
   "outputs": [
    {
     "name": "stdout",
     "output_type": "stream",
     "text": [
      "Model: \"sequential_1\"\n",
      "_________________________________________________________________\n",
      "Layer (type)                 Output Shape              Param #   \n",
      "=================================================================\n",
      "dense_4 (Dense)              (None, 20)                15700     \n",
      "_________________________________________________________________\n",
      "dropout (Dropout)            (None, 20)                0         \n",
      "_________________________________________________________________\n",
      "dense_5 (Dense)              (None, 10)                210       \n",
      "_________________________________________________________________\n",
      "dropout_1 (Dropout)          (None, 10)                0         \n",
      "_________________________________________________________________\n",
      "dense_6 (Dense)              (None, 30)                330       \n",
      "_________________________________________________________________\n",
      "dropout_2 (Dropout)          (None, 30)                0         \n",
      "_________________________________________________________________\n",
      "dense_7 (Dense)              (None, 10)                310       \n",
      "=================================================================\n",
      "Total params: 16,550\n",
      "Trainable params: 16,550\n",
      "Non-trainable params: 0\n",
      "_________________________________________________________________\n"
     ]
    }
   ],
   "source": [
    "nn_model.summary()"
   ]
  },
  {
   "cell_type": "code",
   "execution_count": null,
   "metadata": {},
   "outputs": [],
   "source": []
  },
  {
   "cell_type": "code",
   "execution_count": null,
   "metadata": {},
   "outputs": [],
   "source": []
  },
  {
   "cell_type": "code",
   "execution_count": null,
   "metadata": {},
   "outputs": [],
   "source": []
  }
 ],
 "metadata": {
  "kernelspec": {
   "display_name": "Python 3",
   "language": "python",
   "name": "python3"
  },
  "language_info": {
   "codemirror_mode": {
    "name": "ipython",
    "version": 3
   },
   "file_extension": ".py",
   "mimetype": "text/x-python",
   "name": "python",
   "nbconvert_exporter": "python",
   "pygments_lexer": "ipython3",
   "version": "3.7.9"
  }
 },
 "nbformat": 4,
 "nbformat_minor": 4
}
