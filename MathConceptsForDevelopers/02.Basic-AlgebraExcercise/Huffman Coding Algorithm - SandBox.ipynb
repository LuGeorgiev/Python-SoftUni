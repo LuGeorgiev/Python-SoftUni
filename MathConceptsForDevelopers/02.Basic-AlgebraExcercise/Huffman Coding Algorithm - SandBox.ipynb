{
 "cells": [
  {
   "cell_type": "code",
   "execution_count": 1,
   "metadata": {},
   "outputs": [],
   "source": [
    "import queue "
   ]
  },
  {
   "cell_type": "code",
   "execution_count": 2,
   "metadata": {},
   "outputs": [],
   "source": [
    "p = queue.PriorityQueue()"
   ]
  },
  {
   "cell_type": "code",
   "execution_count": 67,
   "metadata": {},
   "outputs": [],
   "source": [
    "frequencies = {'a':0.1,'b':0.15, 'c':0.2, 'd':0.25, 'e':0.3 }"
   ]
  },
  {
   "cell_type": "code",
   "execution_count": 72,
   "metadata": {},
   "outputs": [],
   "source": [
    "symbol_code = {}"
   ]
  },
  {
   "cell_type": "code",
   "execution_count": 59,
   "metadata": {},
   "outputs": [],
   "source": [
    "def fill_priorityQueue(elem_by_frequency):\n",
    "    symbol_by_code = {}\n",
    "    for key, value in elem_by_frequency.items():\n",
    "        symbol_code[key]='';\n",
    "        p.put((value, key))\n",
    "    return symbol_by_code"
   ]
  },
  {
   "cell_type": "code",
   "execution_count": 73,
   "metadata": {},
   "outputs": [],
   "source": [
    "#fill prority queue and code dictionary\n",
    "symbol_code = fill_priorityQueue(frequencies)"
   ]
  },
  {
   "cell_type": "code",
   "execution_count": 69,
   "metadata": {},
   "outputs": [
    {
     "name": "stdout",
     "output_type": "stream",
     "text": [
      "False\n"
     ]
    }
   ],
   "source": [
    "# chack if empty\n",
    "print(p.empty())"
   ]
  },
  {
   "cell_type": "code",
   "execution_count": 63,
   "metadata": {},
   "outputs": [],
   "source": [
    "def add_bits_key(key, bit, symbol_code):\n",
    "    if len(key) == 1:\n",
    "        symbol_code[key] = bit\n",
    "    else:\n",
    "        for symbol in key:\n",
    "            symbol_code[symbol] = bit + symbol_code[symbol]"
   ]
  },
  {
   "cell_type": "code",
   "execution_count": 64,
   "metadata": {},
   "outputs": [],
   "source": [
    "def build_code(symbol_code):\n",
    "    while p.qsize() > 1:\n",
    "        right = p.get();\n",
    "        left = p.get();\n",
    "        if right is None or left is None:\n",
    "            break;\n",
    "        left_key = left[1]\n",
    "        left_vaalue = left[0]\n",
    "        right_key = right[1]\n",
    "        right_value = right[0]\n",
    "        \n",
    "        add_bits_key(left_key,'1',symbol_code)\n",
    "        add_bits_key(right_key,'0', symbol_code)\n",
    "        print(str(right_value + left_vaalue)+\"->\"+left_key + right_key)\n",
    "        \n",
    "        p.put((right_value + left_vaalue, left_key + right_key))\n",
    "        "
   ]
  },
  {
   "cell_type": "code",
   "execution_count": 75,
   "metadata": {},
   "outputs": [
    {
     "name": "stdout",
     "output_type": "stream",
     "text": [
      "0.25->ba\n",
      "0.45->bac\n",
      "0.55->ed\n",
      "1.0->edbac\n"
     ]
    }
   ],
   "source": [
    "build_code(symbol_code)"
   ]
  },
  {
   "cell_type": "code",
   "execution_count": 57,
   "metadata": {},
   "outputs": [
    {
     "name": "stdout",
     "output_type": "stream",
     "text": [
      "1.4->cbcbaedf\n"
     ]
    }
   ],
   "source": [
    "while True:    \n",
    "    if p.empty() == True:\n",
    "        break;\n",
    "    current = p.get()\n",
    "    print(str(current[0])+ \"->\" + str(current[1]))"
   ]
  },
  {
   "cell_type": "code",
   "execution_count": 18,
   "metadata": {},
   "outputs": [
    {
     "name": "stdout",
     "output_type": "stream",
     "text": [
      "g\n",
      "h\n",
      "t\n"
     ]
    }
   ],
   "source": [
    "for let in 'ght':\n",
    "    print(let)\n"
   ]
  },
  {
   "cell_type": "code",
   "execution_count": 76,
   "metadata": {},
   "outputs": [
    {
     "name": "stdout",
     "output_type": "stream",
     "text": [
      "{'b': '100', 'a': '101', 'c': '11', 'e': '00', 'd': '01'}\n",
      "{'a': 0.1, 'b': 0.15, 'c': 0.2, 'd': 0.25, 'e': 0.3}\n"
     ]
    }
   ],
   "source": [
    "print(symbol_code)\n",
    "print (frequencies)"
   ]
  }
 ],
 "metadata": {
  "kernelspec": {
   "display_name": "Python 3",
   "language": "python",
   "name": "python3"
  },
  "language_info": {
   "codemirror_mode": {
    "name": "ipython",
    "version": 3
   },
   "file_extension": ".py",
   "mimetype": "text/x-python",
   "name": "python",
   "nbconvert_exporter": "python",
   "pygments_lexer": "ipython3",
   "version": "3.7.4"
  }
 },
 "nbformat": 4,
 "nbformat_minor": 2
}
