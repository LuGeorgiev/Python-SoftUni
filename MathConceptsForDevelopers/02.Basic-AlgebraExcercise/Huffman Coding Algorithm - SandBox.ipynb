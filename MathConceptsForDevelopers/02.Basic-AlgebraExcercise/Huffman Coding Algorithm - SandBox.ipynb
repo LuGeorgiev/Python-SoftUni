{
 "cells": [
  {
   "cell_type": "code",
   "execution_count": 9,
   "metadata": {},
   "outputs": [],
   "source": [
    "import queue "
   ]
  },
  {
   "cell_type": "markdown",
   "metadata": {},
   "source": [
    "## Read from file and calculate symbol occurencies"
   ]
  },
  {
   "cell_type": "code",
   "execution_count": 15,
   "metadata": {},
   "outputs": [],
   "source": [
    "file_path = 'ToEncode.txt'\n",
    "file = open(file_path,'r')\n",
    "text = file.read()\n",
    "# this is representation of how offent each symbol is met in teh text\n",
    "occurencies = {}\n",
    "for symbol in text:\n",
    "    if not symbol in occurencies:\n",
    "        occurencies[symbol] = 1\n",
    "    else:\n",
    "        occurencies[symbol] = occurencies[symbol] +1\n",
    "file.close()\n",
    "#print(occurencies)"
   ]
  },
  {
   "cell_type": "markdown",
   "metadata": {},
   "source": [
    "## Build Huffman tree and form endoding and decoding dictionaries"
   ]
  },
  {
   "cell_type": "code",
   "execution_count": 4,
   "metadata": {},
   "outputs": [],
   "source": [
    "p = queue.PriorityQueue()\n",
    "\n",
    "def fill_priorityQueue(elem_by_frequency):\n",
    "    symbol_by_code = {}\n",
    "    for key, value in elem_by_frequency.items():\n",
    "        symbol_code[key]='';\n",
    "        p.put((value, key))\n",
    "        \n",
    "    return symbol_by_code\n",
    "\n",
    "\n",
    "def build_code(symbol_code):\n",
    "    while p.qsize() > 1:\n",
    "        right = p.get();\n",
    "        left = p.get();\n",
    "        if right is None or left is None:\n",
    "            break;\n",
    "        left_key = left[1]\n",
    "        left_vaalue = left[0]\n",
    "        right_key = right[1]\n",
    "        right_value = right[0]\n",
    "        \n",
    "        add_bits_key(left_key,'1',symbol_code)\n",
    "        add_bits_key(right_key,'0', symbol_code)\n",
    "        \n",
    "        p.put((right_value + left_vaalue, left_key + right_key))   \n",
    "        \n",
    "    decoding_dict = {v:k for k,v in symbol_code.items()}     \n",
    "    return symbol_code, decoding_dict\n",
    "    \n",
    "\n",
    "def add_bits_key(key, bit, symbol_code):\n",
    "    if len(key) == 1:\n",
    "        symbol_code[key] = bit\n",
    "    else:\n",
    "        for symbol in key:\n",
    "            symbol_code[symbol] = bit + symbol_code[symbol]"
   ]
  },
  {
   "cell_type": "code",
   "execution_count": 17,
   "metadata": {},
   "outputs": [
    {
     "name": "stdout",
     "output_type": "stream",
     "text": [
      "{'B': '0011001', '\\t': '0011000', 'I': '0011011', 'G': '0011010', 'f': '0100011', 'L': '0100010', 'k': '0100101', 'j': '0100100', '!': '1110001', 'x': '1110000', 'T': '010000', 'm': '010011', 'v': '100001', 'p': '100000', '\\n': '100011', 'w': '100010', '.': '111001', 'l': '111101', 'g': '111100', 'y': '00001', 'u': '00000', 'b': '00111', 'c': '10101', 'a': '10100', 'n': '10111', 'h': '10110', 'd': '11101', 'r': '11111', 's': '0001', 't': '0010', 'o': '0101', 'i': '1001', 'e': '011', ' ': '110'}\n",
      "{'0011001': 'B', '0011000': '\\t', '0011011': 'I', '0011010': 'G', '0100011': 'f', '0100010': 'L', '0100101': 'k', '0100100': 'j', '1110001': '!', '1110000': 'x', '010000': 'T', '010011': 'm', '100001': 'v', '100000': 'p', '100011': '\\n', '100010': 'w', '111001': '.', '111101': 'l', '111100': 'g', '00001': 'y', '00000': 'u', '00111': 'b', '10101': 'c', '10100': 'a', '10111': 'n', '10110': 'h', '11101': 'd', '11111': 'r', '0001': 's', '0010': 't', '0101': 'o', '1001': 'i', '011': 'e', '110': ' '}\n"
     ]
    }
   ],
   "source": [
    "#Building encoding and decoding dictionaries\n",
    "\n",
    "while not p.empty():\n",
    "    p.get()\n",
    "symbol_code = {}\n",
    "\n",
    "symbol_code = fill_priorityQueue(occurencies)\n",
    "encoding_dict, decoding_dict = build_code(symbol_code)\n",
    "\n",
    "#print(encoding_dict)\n",
    "#print(decoding_dict)"
   ]
  },
  {
   "cell_type": "markdown",
   "metadata": {},
   "source": [
    "## Encodind of the text and save it in bin file"
   ]
  },
  {
   "cell_type": "code",
   "execution_count": 23,
   "metadata": {},
   "outputs": [
    {
     "name": "stdout",
     "output_type": "stream",
     "text": [
      "85\n"
     ]
    }
   ],
   "source": [
    "encoded_text = ''\n",
    "for symbol in text:\n",
    "    encoded_text += encoding_dict[symbol]\n",
    "padding_length = 8 - len(encoded_text) % 8\n",
    "encoded_text += '0' * padding_length\n",
    "padding_info = '{0:08b}'.format(padding_length)\n",
    "\n",
    "padded_encoded_text = padding_info + encoded_text\n",
    "#print(encoded_text)\n",
    "#print(len(encoded_text) % 8)\n",
    "\n",
    "byte_arr = bytearray()\n",
    "for i in range(0, len(padded_encoded_text),8):\n",
    "    byte = padded_encoded_text[i: i+8]\n",
    "    byte_arr.append(int(byte, 2))\n",
    "    \n",
    "output_file = 'Encoded.bin'\n",
    "output = open(output_file, 'wb')\n",
    "output.write(bytes(byte_arr))\n",
    "output.close()"
   ]
  },
  {
   "cell_type": "markdown",
   "metadata": {},
   "source": [
    "## Decoding of teh saved bin file"
   ]
  },
  {
   "cell_type": "code",
   "execution_count": 18,
   "metadata": {},
   "outputs": [
    {
     "data": {
      "text/plain": [
       "'000'"
      ]
     },
     "execution_count": 18,
     "metadata": {},
     "output_type": "execute_result"
    }
   ],
   "source": [
    "'0'*3"
   ]
  },
  {
   "cell_type": "code",
   "execution_count": 57,
   "metadata": {},
   "outputs": [
    {
     "name": "stdout",
     "output_type": "stream",
     "text": [
      "1.4->cbcbaedf\n"
     ]
    }
   ],
   "source": []
  },
  {
   "cell_type": "code",
   "execution_count": 18,
   "metadata": {},
   "outputs": [
    {
     "name": "stdout",
     "output_type": "stream",
     "text": [
      "g\n",
      "h\n",
      "t\n"
     ]
    }
   ],
   "source": [
    "\n"
   ]
  },
  {
   "cell_type": "code",
   "execution_count": 91,
   "metadata": {},
   "outputs": [
    {
     "name": "stdout",
     "output_type": "stream",
     "text": [
      "{'b': '100', 'a': '101', 'c': '11', 'e': '00', 'd': '01'}\n",
      "{'a': 0.1, 'b': 0.15, 'c': 0.2, 'd': 0.25, 'e': 0.3}\n"
     ]
    }
   ],
   "source": []
  },
  {
   "cell_type": "markdown",
   "metadata": {},
   "source": [
    "## Funk test"
   ]
  },
  {
   "cell_type": "code",
   "execution_count": 88,
   "metadata": {},
   "outputs": [
    {
     "name": "stdout",
     "output_type": "stream",
     "text": [
      "00000111\n",
      "7\n"
     ]
    }
   ],
   "source": [
    "print(\"{0:08b}\".format(7))\n",
    "test = \"{0:08b}\".format(7)\n",
    "print(int(test,2))"
   ]
  },
  {
   "cell_type": "code",
   "execution_count": 90,
   "metadata": {},
   "outputs": [
    {
     "name": "stdout",
     "output_type": "stream",
     "text": [
      "101010100120101\n"
     ]
    }
   ],
   "source": [
    "print(\"101010100120101022\"[:-1 * 3])"
   ]
  }
 ],
 "metadata": {
  "kernelspec": {
   "display_name": "Python 3",
   "language": "python",
   "name": "python3"
  }
 },
 "nbformat": 4,
 "nbformat_minor": 2
}
