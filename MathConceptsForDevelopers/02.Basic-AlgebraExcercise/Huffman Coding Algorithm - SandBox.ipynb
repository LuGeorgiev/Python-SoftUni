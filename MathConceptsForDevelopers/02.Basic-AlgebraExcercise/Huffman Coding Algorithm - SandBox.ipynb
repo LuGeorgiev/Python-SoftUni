{
 "cells": [
  {
   "cell_type": "code",
   "execution_count": 1,
   "metadata": {},
   "outputs": [],
   "source": [
    "import queue "
   ]
  },
  {
   "cell_type": "markdown",
   "metadata": {},
   "source": [
    "## Read from file and calculate symbol occurencies"
   ]
  },
  {
   "cell_type": "code",
   "execution_count": 3,
   "metadata": {},
   "outputs": [],
   "source": [
    "file_path = 'ToEncode.txt'\n",
    "file = open(file_path,'r')\n",
    "text = file.read()\n",
    "# this is representation of how offent each symbol is met in teh text\n",
    "occurencies = {}\n",
    "for symbol in text:\n",
    "    if not symbol in occurencies:\n",
    "        occurencies[symbol] = 1\n",
    "    else:\n",
    "        occurencies[symbol] = occurencies[symbol] +1\n",
    "file.close()\n",
    "#print(occurencies)"
   ]
  },
  {
   "cell_type": "markdown",
   "metadata": {},
   "source": [
    "## Build Huffman tree and form endoding and decoding dictionaries"
   ]
  },
  {
   "cell_type": "code",
   "execution_count": 4,
   "metadata": {},
   "outputs": [],
   "source": [
    "p = queue.PriorityQueue()\n",
    "\n",
    "def fill_priorityQueue(elem_by_frequency):\n",
    "    symbol_by_code = {}\n",
    "    for key, value in elem_by_frequency.items():\n",
    "        symbol_code[key]='';\n",
    "        p.put((value, key))\n",
    "        \n",
    "    return symbol_by_code\n",
    "\n",
    "\n",
    "def build_code(symbol_code):\n",
    "    while p.qsize() > 1:\n",
    "        right = p.get();\n",
    "        left = p.get();\n",
    "        if right is None or left is None:\n",
    "            break;\n",
    "        left_key = left[1]\n",
    "        left_vaalue = left[0]\n",
    "        right_key = right[1]\n",
    "        right_value = right[0]\n",
    "        \n",
    "        add_bits_key(left_key,'1',symbol_code)\n",
    "        add_bits_key(right_key,'0', symbol_code)\n",
    "        \n",
    "        p.put((right_value + left_vaalue, left_key + right_key))   \n",
    "        \n",
    "    decoding_dict = {v:k for k,v in symbol_code.items()}     \n",
    "    return symbol_code, decoding_dict\n",
    "    \n",
    "\n",
    "def add_bits_key(key, bit, symbol_code):\n",
    "    if len(key) == 1:\n",
    "        symbol_code[key] = bit\n",
    "    else:\n",
    "        for symbol in key:\n",
    "            symbol_code[symbol] = bit + symbol_code[symbol]"
   ]
  },
  {
   "cell_type": "code",
   "execution_count": 5,
   "metadata": {},
   "outputs": [],
   "source": [
    "#Building encoding and decoding dictionaries\n",
    "\n",
    "while not p.empty():\n",
    "    p.get()\n",
    "symbol_code = {}\n",
    "\n",
    "symbol_code = fill_priorityQueue(occurencies)\n",
    "encoding_dict, decoding_dict = build_code(symbol_code)\n",
    "\n",
    "#print(encoding_dict)\n",
    "#print(decoding_dict)"
   ]
  },
  {
   "cell_type": "markdown",
   "metadata": {},
   "source": [
    "## Encodind of the text and save it in bin file"
   ]
  },
  {
   "cell_type": "code",
   "execution_count": 6,
   "metadata": {},
   "outputs": [],
   "source": [
    "encoded_text = ''\n",
    "for symbol in text:\n",
    "    encoded_text += encoding_dict[symbol]\n",
    "padding_length = 8 - len(encoded_text) % 8\n",
    "encoded_text += '0' * padding_length\n",
    "padding_info = '{0:08b}'.format(padding_length)\n",
    "\n",
    "padded_encoded_text = padding_info + encoded_text\n",
    "#print(encoded_text)\n",
    "#print(len(encoded_text) % 8)\n",
    "\n",
    "byte_arr = bytearray()\n",
    "for i in range(0, len(padded_encoded_text),8):\n",
    "    byte = padded_encoded_text[i: i+8]\n",
    "    byte_arr.append(int(byte, 2))\n",
    "    \n",
    "output_file = 'Encoded.bin'\n",
    "output = open(output_file, 'wb+')\n",
    "output.truncate(0)\n",
    "output.write(bytes(byte_arr))\n",
    "output.close()"
   ]
  },
  {
   "cell_type": "markdown",
   "metadata": {},
   "source": [
    "## Decoding of the saved bin file and save to another txt"
   ]
  },
  {
   "cell_type": "code",
   "execution_count": 7,
   "metadata": {},
   "outputs": [],
   "source": [
    "file_to_decode = open(output_file, 'rb')\n",
    "bits_string = ''\n",
    "byte = file_to_decode.read(1)\n",
    "\n",
    "while True:#( byte != '' ):\n",
    "    if len(byte) == 0:\n",
    "        break;\n",
    "    byte = ord(byte) # 180\n",
    "    bits = bin(byte)[2:].rjust(8,'0') # 10110100\n",
    "    bits_string += bits\n",
    "    byte = file_to_decode.read(1)\n",
    "    \n",
    "#Remove padding\n",
    "zeroes_to_remove = int(bits_string[0:8],2)\n",
    "bits_string = bits_string[8:]\n",
    "text_to_decode = bits_string[: -1 *zeroes_to_remove]\n",
    "\n",
    "#decode teh file\n",
    "initial_text = ''\n",
    "key = ''\n",
    "for symbol in text_to_decode:\n",
    "    key += symbol;\n",
    "    if key in decoding_dict:\n",
    "        initial_text += decoding_dict[key]\n",
    "        key = ''\n",
    "\n",
    "# write result in new file\n",
    "result_file = 'Decoded.txt'\n",
    "decoded_file = open(result_file, 'w+')\n",
    "decoded_file.write(initial_text)\n",
    "decoded_file.close()"
   ]
  }
 ],
 "metadata": {
  "kernelspec": {
   "display_name": "Python 3",
   "language": "python",
   "name": "python3"
  },
  "language_info": {
   "codemirror_mode": {
    "name": "ipython",
    "version": 3
   },
   "file_extension": ".py",
   "mimetype": "text/x-python",
   "name": "python",
   "nbconvert_exporter": "python",
   "pygments_lexer": "ipython3",
   "version": "3.7.4"
  }
 },
 "nbformat": 4,
 "nbformat_minor": 2
}
