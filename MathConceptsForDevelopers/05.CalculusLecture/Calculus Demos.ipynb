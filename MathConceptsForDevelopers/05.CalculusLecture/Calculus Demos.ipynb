{
 "cells": [
  {
   "cell_type": "code",
   "execution_count": 1,
   "metadata": {},
   "outputs": [],
   "source": [
    "%matplotlib inline"
   ]
  },
  {
   "cell_type": "code",
   "execution_count": 2,
   "metadata": {},
   "outputs": [],
   "source": [
    "import numpy as np\n",
    "import matplotlib.pyplot as plt"
   ]
  },
  {
   "cell_type": "markdown",
   "metadata": {},
   "source": [
    "## Live demos"
   ]
  },
  {
   "cell_type": "code",
   "execution_count": 27,
   "metadata": {},
   "outputs": [],
   "source": [
    "def f(num):\n",
    "    return num**2"
   ]
  },
  {
   "cell_type": "code",
   "execution_count": 10,
   "metadata": {},
   "outputs": [],
   "source": [
    "a = 2"
   ]
  },
  {
   "cell_type": "code",
   "execution_count": 8,
   "metadata": {},
   "outputs": [],
   "source": [
    "delta =np.array(np.power(10.0, np.arange(0, -11, -1)))"
   ]
  },
  {
   "cell_type": "code",
   "execution_count": 9,
   "metadata": {},
   "outputs": [
    {
     "name": "stdout",
     "output_type": "stream",
     "text": [
      "[1.e+00 1.e-01 1.e-02 1.e-03 1.e-04 1.e-05 1.e-06 1.e-07 1.e-08 1.e-09\n",
      " 1.e-10]\n"
     ]
    }
   ],
   "source": [
    "print(delta)"
   ]
  },
  {
   "cell_type": "code",
   "execution_count": 11,
   "metadata": {},
   "outputs": [
    {
     "data": {
      "text/plain": [
       "array([1.        , 1.9       , 1.99      , 1.999     , 1.9999    ,\n",
       "       1.99999   , 1.999999  , 1.9999999 , 1.99999999, 2.        ,\n",
       "       2.        ])"
      ]
     },
     "execution_count": 11,
     "metadata": {},
     "output_type": "execute_result"
    }
   ],
   "source": [
    "a - delta"
   ]
  },
  {
   "cell_type": "code",
   "execution_count": 13,
   "metadata": {},
   "outputs": [
    {
     "data": {
      "text/plain": [
       "array([2.        , 2.        , 2.00000001, 2.0000001 , 2.000001  ,\n",
       "       2.00001   , 2.0001    , 2.001     , 2.01      , 2.1       ,\n",
       "       3.        ])"
      ]
     },
     "execution_count": 13,
     "metadata": {},
     "output_type": "execute_result"
    }
   ],
   "source": [
    "(a + delta)[::-1]"
   ]
  },
  {
   "cell_type": "code",
   "execution_count": 20,
   "metadata": {},
   "outputs": [
    {
     "name": "stdout",
     "output_type": "stream",
     "text": [
      "[1.         1.9        1.99       1.999      1.9999     1.99999\n",
      " 1.999999   1.9999999  1.99999999 2.         2.         2.\n",
      " 2.         2.00000001 2.0000001  2.000001   2.00001    2.0001\n",
      " 2.001      2.01       2.1        3.        ]\n"
     ]
    }
   ],
   "source": [
    "x = np.append(a-delta, (a + delta)[::-1])\n",
    "print(x)"
   ]
  },
  {
   "cell_type": "code",
   "execution_count": 25,
   "metadata": {},
   "outputs": [
    {
     "data": {
      "text/plain": [
       "array([1.        , 1.9       , 1.99      , 1.999     , 1.9999    ,\n",
       "       1.99999   , 1.999999  , 1.9999999 , 1.99999999, 2.        ,\n",
       "       2.        , 2.        , 2.        , 2.00000001, 2.0000001 ,\n",
       "       2.000001  , 2.00001   , 2.0001    , 2.001     , 2.01      ,\n",
       "       2.1       , 3.        ])"
      ]
     },
     "execution_count": 25,
     "metadata": {},
     "output_type": "execute_result"
    }
   ],
   "source": [
    "x"
   ]
  },
  {
   "cell_type": "code",
   "execution_count": 28,
   "metadata": {},
   "outputs": [],
   "source": [
    "y = f(x)"
   ]
  },
  {
   "cell_type": "code",
   "execution_count": 29,
   "metadata": {},
   "outputs": [
    {
     "data": {
      "text/plain": [
       "[(1.0, 1.0),\n",
       " (1.9, 3.61),\n",
       " (1.99, 3.9601),\n",
       " (1.999, 3.9960010000000006),\n",
       " (1.9999, 3.99960001),\n",
       " (1.99999, 3.9999600000999997),\n",
       " (1.999999, 3.9999960000010004),\n",
       " (1.9999999, 3.99999960000001),\n",
       " (1.99999999, 3.9999999600000002),\n",
       " (1.999999999, 3.9999999959999997),\n",
       " (1.9999999999, 3.9999999996),\n",
       " (2.0000000001, 4.0000000004),\n",
       " (2.000000001, 4.000000004),\n",
       " (2.00000001, 4.00000004),\n",
       " (2.0000001, 4.000000400000009),\n",
       " (2.000001, 4.000004000001001),\n",
       " (2.00001, 4.0000400001),\n",
       " (2.0001, 4.000400010000001),\n",
       " (2.001, 4.004001),\n",
       " (2.01, 4.040099999999999),\n",
       " (2.1, 4.41),\n",
       " (3.0, 9.0)]"
      ]
     },
     "execution_count": 29,
     "metadata": {},
     "output_type": "execute_result"
    }
   ],
   "source": [
    "list(zip(x,y))"
   ]
  },
  {
   "cell_type": "code",
   "execution_count": 30,
   "metadata": {},
   "outputs": [
    {
     "name": "stdout",
     "output_type": "stream",
     "text": [
      "[ 4.          8.41        8.9401      8.994001    8.99940001  8.99994\n",
      "  8.999994    8.9999994   8.99999994  8.99999999  9.          9.\n",
      "  9.00000001  9.00000006  9.0000006   9.000006    9.00006     9.00060001\n",
      "  9.006001    9.0601      9.61       16.        ]\n",
      "[ 4.          9.31        9.9301      9.993001    9.99930001  9.99993\n",
      "  9.999993    9.9999993   9.99999993  9.99999999 10.         10.\n",
      " 10.00000001 10.00000007 10.0000007  10.000007   10.00007    10.00070001\n",
      " 10.007001   10.0701     10.71       18.        ]\n",
      "[-8.41470985e-01 -9.98334166e-02 -9.99983333e-03 -9.99999833e-04\n",
      " -9.99999998e-05 -1.00000000e-05 -1.00000000e-06 -1.00000000e-07\n",
      " -1.00000000e-08 -1.00000000e-09 -1.00000000e-10  1.00000000e-10\n",
      "  1.00000000e-09  1.00000000e-08  1.00000000e-07  1.00000000e-06\n",
      "  1.00000000e-05  9.99999998e-05  9.99999833e-04  9.99983333e-03\n",
      "  9.98334166e-02  8.41470985e-01]\n"
     ]
    }
   ],
   "source": [
    "def get_limit(f, a):\n",
    "    epsilon = np.array([10 **p for p in np.arange(0, -11, -1, dtype = float)])\n",
    "    x = np.append(a -epsilon, (a + epsilon)[::-1])\n",
    "    y = f(x)\n",
    "    return y\n",
    "print(get_limit(lambda x: x**2,3))\n",
    "print(get_limit(lambda x: x**2 + 3*x ,2))\n",
    "print(get_limit(lambda x: np.sin(x),0))"
   ]
  },
  {
   "cell_type": "code",
   "execution_count": 31,
   "metadata": {},
   "outputs": [],
   "source": [
    "def calculate_derivative(f, a, h = 1e-7):\n",
    "    return (f(a + h) - f(a))/h"
   ]
  },
  {
   "cell_type": "code",
   "execution_count": 37,
   "metadata": {},
   "outputs": [],
   "source": [
    "def quad_polinomila(x):\n",
    "    return 3 * x**2 + 5*x - 8"
   ]
  },
  {
   "cell_type": "code",
   "execution_count": 40,
   "metadata": {},
   "outputs": [
    {
     "name": "stdout",
     "output_type": "stream",
     "text": [
      "23.00000026878024\n"
     ]
    }
   ],
   "source": [
    "print(calculate_derivative(quad_polinomila, 3, 1e-7))"
   ]
  },
  {
   "cell_type": "code",
   "execution_count": 41,
   "metadata": {},
   "outputs": [
    {
     "name": "stdout",
     "output_type": "stream",
     "text": [
      "81.0000044282333\n"
     ]
    }
   ],
   "source": [
    "print(calculate_derivative(lambda x: x**4 - x**3 -3, 3, 1e-7))"
   ]
  }
 ],
 "metadata": {
  "kernelspec": {
   "display_name": "Python 3",
   "language": "python",
   "name": "python3"
  },
  "language_info": {
   "codemirror_mode": {
    "name": "ipython",
    "version": 3
   },
   "file_extension": ".py",
   "mimetype": "text/x-python",
   "name": "python",
   "nbconvert_exporter": "python",
   "pygments_lexer": "ipython3",
   "version": "3.7.4"
  }
 },
 "nbformat": 4,
 "nbformat_minor": 2
}
