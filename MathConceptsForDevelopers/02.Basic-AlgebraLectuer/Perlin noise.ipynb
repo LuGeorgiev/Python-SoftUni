{
 "cells": [
  {
   "cell_type": "markdown",
   "metadata": {},
   "source": [
    "# Perlin noise implementation attempt\n"
   ]
  },
  {
   "cell_type": "code",
   "execution_count": 2,
   "metadata": {},
   "outputs": [],
   "source": [
    "from itertools import product\n",
    "import math\n",
    "import random"
   ]
  },
  {
   "cell_type": "markdown",
   "metadata": {},
   "source": [
    "#### Smooth curve with a zero derivative at 0 and 1, making it useful for interpolating."
   ]
  },
  {
   "cell_type": "code",
   "execution_count": 3,
   "metadata": {},
   "outputs": [],
   "source": [
    "def smoother(t):\n",
    "    return t * t * (3. -2. * t)"
   ]
  },
  {
   "cell_type": "markdown",
   "metadata": {},
   "source": [
    "#### Linear interpolation between a and b, given a fraction t."
   ]
  },
  {
   "cell_type": "code",
   "execution_count": 5,
   "metadata": {},
   "outputs": [],
   "source": [
    "def lerp(t, a, b):\n",
    "    return a + t * (b - a)"
   ]
  },
  {
   "cell_type": "markdown",
   "metadata": {},
   "source": [
    "## Callable that produces Perlin noise for an arbitrary point in an arbitrary number of dimensions.  The underlying grid is aligned with the integers. There is no limit to the coordinates used; new gradients are generated on the fly as necessary\n",
    "    "
   ]
  },
  {
   "cell_type": "code",
   "execution_count": 21,
   "metadata": {},
   "outputs": [],
   "source": [
    "class PerlinNoiseFactory :\n",
    "    def __init_ (self, dimentions, octaves=1, tile=(), unbias = False): \n",
    "        #Create a new Perlin noise factory in the given number of dimensions,\n",
    "        #which should be an integer and at least 1.\n",
    "        #More octaves create a foggier and more-detailed noise pattern.  More\n",
    "        #than 4 octaves is rather excessive.\n",
    "        #``tile`` can be used to make a seamlessly tiling pattern.  For example:\n",
    "        #    pnf = PerlinNoiseFactory(2, tile=(0, 3))\n",
    "        #This will produce noise that tiles every 3 units vertically, but never\n",
    "        #tiles horizontally.\n",
    "        #If ``unbias`` is true, the smoothstep function will be applied to the\n",
    "        #output before returning it, to counteract some of Perlin noise's\n",
    "        #significant bias towards the center of its output range.\n",
    "        #\n",
    "        self.dimentions = dimentions\n",
    "        self.octaves = octaves\n",
    "        self.tile = tile + (0,) * dimentions\n",
    "        self.unbias = unbias\n",
    "        \n",
    "        \"\"\" For n dimentions, the range of Perlin noise is +/-sqrt(n)/2; multiply by this to scale to +/-1 \"\"\"\n",
    "        self.scale_factor = 2 * dimentions ** -0.5\n",
    "        self.gradient = {}\n",
    "        \n",
    "        \n",
    "    def _generate_gradient(self):\n",
    "        # Generate a random unit vector at each grid point -- this is the\n",
    "        # \"gradient\" vector, in that the grid tile slopes towards it\n",
    "\n",
    "        # 1 dimension is special, since the only unit vector is trivial;\n",
    "        # instead, use a slope between -1 and 1\n",
    "        if self.dimentions == 1:\n",
    "            return (random.uniform(-1, 1), )\n",
    "        \n",
    "        # Generate a random point on the surface of the unit n-hypersphere;\n",
    "        # this is the same as a random unit vector in n dimensions.  Thanks\n",
    "        # to: http://mathworld.wolfram.com/SpherePointPicking.html\n",
    "        # Pick n normal random variables with stddev 1\n",
    "        \n",
    "        rendom_point = [random.gauss(0, 1) for _ in range(self.dimentions)]        \n",
    "        # Then scale the result to a unit vector\n",
    "        scale = sum(n * n for n in rendom_point) ** -0.5\n",
    "        \n",
    "        return tuple(coord * scale for coord in rendom_point)\n",
    "    \n",
    "    \n",
    "    def get_pain_noise (self, *point):\n",
    "        \"\"\" Get plain noise for a single point without taiking into account nor octaves neither tilling\"\"\"\n",
    "        if len(point) != self.dimentions:\n",
    "            raise ValueError(\"Expected {} values, got {}\".format(self.dimentions, len(point)))\n",
    "        # build a list of the (min, max) bounds in each dimention\n",
    "        grid_coords = []\n",
    "        for coord in point:\n",
    "            min_coord = math.floor(coord)\n",
    "            max_coord = min_coord +1\n",
    "            grid_coords.append((min_coord, max_coord))\n",
    "            \n",
    "        # Compute the dot product of each gradient vector and the point's\n",
    "        # distance from the corresponding grid point.  This gives you each\n",
    "        # gradient's \"influence\" on the chosen point.\n",
    "        \n",
    "        dots = []\n",
    "        for grid_point in product(*grid_coords):\n",
    "            if grid_point not in self.gradient:\n",
    "                self.gradient[grid_point]= self._generate_gradient()\n",
    "            gradient = self.gradient[grid_point]\n",
    "            \n",
    "            dot = 0\n",
    "            for i in range(self.dimentions):\n",
    "                dot += gradient[i]*(point[i] - grid_point[i])\n",
    "            dots.append(dot)\n",
    "            \n",
    "        # Interpolate all those dot products together.  The interpolation is\n",
    "        # done with smoothstep to smooth out the slope as you pass from one\n",
    "        # grid cell into the next.\n",
    "        # Due to the way product() works, dot products are ordered such that\n",
    "        # the last dimension alternates: (..., min), (..., max), etc.  So we\n",
    "        # can interpolate adjacent pairs to \"collapse\" that last dimension.  Then\n",
    "        # the results will alternate in their second-to-last dimension, and so\n",
    "        # forth, until we only have a single value left.\n",
    "        \n",
    "        dim = self.dimentions\n",
    "        while len(dots) > 1:\n",
    "            dim -= 1\n",
    "            s = smoother(point[dim] - grid_coords[dim][0])\n",
    "            \n",
    "            next_dot = []\n",
    "            while dots:\n",
    "                next_dot.append(lerp(s, dots.pop(0), dots.pop(0)))\n",
    "            \n",
    "            dots = next_dot\n",
    "            \n",
    "            \n",
    "        return dots[0] * self.scale_factor\n",
    "    \n",
    "    \n",
    "    def __call__ (self, *point):\n",
    "        \"\"\"Get the value of this Perlin noise function at the given point.  The\n",
    "        number of values given should match the number of dimensions.\n",
    "        \"\"\"\n",
    "        \n",
    "        ret = 0\n",
    "        for o in range(self.dimentions):\n",
    "            o2 = 1 << o\n",
    "            new_point = []\n",
    "            for i, coord in enumerate(point):\n",
    "                coord *= o2\n",
    "                if self.tile[i]:\n",
    "                    coord %= self.tile[i] * o2\n",
    "                new_point.append(coord)\n",
    "            ret += self.get_pain_noise(*new_point) / o2\n",
    "        \n",
    "        # Need to scale n back down since adding all those extra octaves has\n",
    "        # probably expanded it beyond ±1\n",
    "        # 1 octave: ±1\n",
    "        # 2 octaves: ±1½\n",
    "        # 3 octaves: ±1¾\n",
    "        \n",
    "        ret /= 2 - 2**(1-self.octaves)\n",
    "        \n",
    "        if self.unbias:\n",
    "            # The output of the plain Perlin noise algorithm has a fairly\n",
    "            # strong bias towards the center due to the central limit theorem\n",
    "            # -- in fact the top and bottom 1/8 virtually never happen.  That's\n",
    "            # a quarter of our entire output range!  If only we had a function\n",
    "            # in [0..1] that could introduce a bias towards the endpoints...\n",
    "            \n",
    "            r = (ret + 1) / 2\n",
    "            # Doing it this many times is a completely made-up heuristic.\n",
    "            \n",
    "            for _ in range(int(self.octaves / 2 + 0.5)):\n",
    "                r = smoother(r)\n",
    "            ret = r * 2 -1\n",
    "        \n",
    "        return ret\n",
    "            "
   ]
  },
  {
   "cell_type": "code",
   "execution_count": 24,
   "metadata": {},
   "outputs": [
    {
     "ename": "TypeError",
     "evalue": "PerlinNoiseFactory() takes no arguments",
     "output_type": "error",
     "traceback": [
      "\u001b[1;31m---------------------------------------------------------------------------\u001b[0m",
      "\u001b[1;31mTypeError\u001b[0m                                 Traceback (most recent call last)",
      "\u001b[1;32m<ipython-input-24-5e8a501d3bf6>\u001b[0m in \u001b[0;36m<module>\u001b[1;34m\u001b[0m\n\u001b[0;32m      3\u001b[0m \u001b[1;32mfor\u001b[0m \u001b[0mi\u001b[0m \u001b[1;32min\u001b[0m \u001b[0mrange\u001b[0m \u001b[1;33m(\u001b[0m\u001b[1;36m1000\u001b[0m\u001b[1;33m)\u001b[0m\u001b[1;33m:\u001b[0m\u001b[1;33m\u001b[0m\u001b[1;33m\u001b[0m\u001b[0m\n\u001b[0;32m      4\u001b[0m     \u001b[1;32mfor\u001b[0m \u001b[0mj\u001b[0m \u001b[1;32min\u001b[0m \u001b[0mrange\u001b[0m \u001b[1;33m(\u001b[0m\u001b[1;36m1000\u001b[0m\u001b[1;33m)\u001b[0m\u001b[1;33m:\u001b[0m\u001b[1;33m\u001b[0m\u001b[1;33m\u001b[0m\u001b[0m\n\u001b[1;32m----> 5\u001b[1;33m         \u001b[0mnoise\u001b[0m\u001b[1;33m[\u001b[0m\u001b[0mi\u001b[0m\u001b[1;33m,\u001b[0m\u001b[0mj\u001b[0m\u001b[1;33m]\u001b[0m \u001b[1;33m=\u001b[0m \u001b[0mPerlinNoiseFactory\u001b[0m\u001b[1;33m(\u001b[0m\u001b[0mi\u001b[0m\u001b[1;33m/\u001b[0m\u001b[1;36m1000\u001b[0m\u001b[1;33m,\u001b[0m \u001b[0mj\u001b[0m\u001b[1;33m/\u001b[0m\u001b[1;36m1000\u001b[0m\u001b[1;33m)\u001b[0m\u001b[1;33m\u001b[0m\u001b[1;33m\u001b[0m\u001b[0m\n\u001b[0m",
      "\u001b[1;31mTypeError\u001b[0m: PerlinNoiseFactory() takes no arguments"
     ]
    }
   ],
   "source": [
    "noise = []\n",
    "\n",
    "for i in range (1000):\n",
    "    for j in range (1000):\n",
    "        noise[i,j] = PerlinNoiseFactory(i/1000, j/1000)"
   ]
  }
 ],
 "metadata": {
  "kernelspec": {
   "display_name": "Python 3",
   "language": "python",
   "name": "python3"
  },
  "language_info": {
   "codemirror_mode": {
    "name": "ipython",
    "version": 3
   },
   "file_extension": ".py",
   "mimetype": "text/x-python",
   "name": "python",
   "nbconvert_exporter": "python",
   "pygments_lexer": "ipython3",
   "version": "3.7.4"
  }
 },
 "nbformat": 4,
 "nbformat_minor": 2
}
