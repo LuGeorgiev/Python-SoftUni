{
 "cells": [
  {
   "cell_type": "code",
   "execution_count": 14,
   "metadata": {},
   "outputs": [],
   "source": [
    "%matplotlib inline"
   ]
  },
  {
   "cell_type": "code",
   "execution_count": 15,
   "metadata": {},
   "outputs": [],
   "source": [
    "from hashlib import md5, sha256, sha512\n",
    "from time import time\n",
    "from string import printable\n",
    "from itertools import product, count\n",
    "from csv import writer"
   ]
  },
  {
   "cell_type": "markdown",
   "metadata": {},
   "source": [
    "## Break MD5 hashing algorithm using brute force and collision"
   ]
  },
  {
   "cell_type": "markdown",
   "metadata": {},
   "source": [
    "MD5: The fastest and shortest generated hash (16 bytes). The probability of just two hashes accidentally colliding is approximately: 1.47*10-29.\n",
    "\n",
    "SHA1: Is generally 20% slower than md5, the generated hash is a bit longer than MD5 (20 bytes). The probability of just two hashes accidentally colliding is approximately: 1*10-45\n",
    "\n",
    "SHA256: The slowest, usually 60% slower than md5, and the longest generated hash (32 bytes). The probability of just two hashes accidentally colliding is approximately: 4.3*10-60."
   ]
  },
  {
   "cell_type": "markdown",
   "metadata": {},
   "source": [
    "### Methods for generating random strings, compare hash codes and write final results to csv"
   ]
  },
  {
   "cell_type": "code",
   "execution_count": 30,
   "metadata": {},
   "outputs": [],
   "source": [
    "def passwords(encoding):\n",
    "    chars = [c.encode(encoding) for c in printable]\n",
    "    for length in count(start=1):\n",
    "        for pwd in product(chars, repeat=length):\n",
    "            yield b''.join(pwd)\n",
    "            \n",
    "            \n",
    "def crack(hash_function, search_hash, encoding):\n",
    "    for pwd in passwords(encoding):\n",
    "        if hash_function(pwd).digest() == search_hash:\n",
    "            return pwd.decode(encoding)\n",
    "        \n",
    "        \n",
    "def append_list_to_csv(file_name, list_of_elem):\n",
    "    with open(file_name, 'a+', newline='') as write_obj:\n",
    "        csv_writer = writer(write_obj)\n",
    "        csv_writer.writerow(list_of_elem)\n",
    "        \n",
    "        \n",
    "def calculate_cracking_time(pass_to_crack, encoding, result_file):\n",
    "    hash_funcs = (md5, sha256, sha512)\n",
    "    hash_funcs_names = ('MD5', 'SHA256', 'SHA512')\n",
    "    \n",
    "    for i in range(3):\n",
    "        hashed_pass = hash_funcs[i](pass_to_crack.encode(encoding)).digest()\n",
    "        \n",
    "        start = time()\n",
    "        cracked = crack(hash_funcs[i], hashed_pass, encoding)\n",
    "        end = time()\n",
    "        duration = round(end - start, 6)\n",
    "        \n",
    "        print(f\"Password cracked with {hash_funcs_names[i]}: {cracked} for {duration} seconds\")\n",
    "        append_list_to_csv(result_file,[hash_funcs_names[i], pass_to_crack, cracked, duration])  \n",
    "\n",
    "    "
   ]
  },
  {
   "cell_type": "markdown",
   "metadata": {},
   "source": [
    "### Initial data and passwords hash generation"
   ]
  },
  {
   "cell_type": "code",
   "execution_count": 31,
   "metadata": {},
   "outputs": [
    {
     "name": "stdout",
     "output_type": "stream",
     "text": [
      "Password cracked with MD5: rev for 0.271283 seconds\n",
      "Password cracked with SHA256: rev for 0.32682 seconds\n",
      "Password cracked with SHA512: rev for 0.34587 seconds\n"
     ]
    }
   ],
   "source": [
    "encoding = 'ascii'  # utf-8 for unicode support\n",
    "password = 'rev'\n",
    "csv_file = 'data.csv'\n",
    "\n",
    "calculate_cracking_time(password, encoding, csv_file)\n"
   ]
  },
  {
   "cell_type": "markdown",
   "metadata": {},
   "source": [
    "### For given password calculate time and write output to file"
   ]
  },
  {
   "cell_type": "code",
   "execution_count": 21,
   "metadata": {},
   "outputs": [
    {
     "name": "stdout",
     "output_type": "stream",
     "text": [
      "b'K\\xe9\\xb5\\xf8E\\x0f\\xadgg\\x19<\\x7ff\\x9a\\xd9\\xc6\\xb3\\xb5\\xe8\\x9c\\xafac(M\\x0b\\xf5\\xd2\\xd9\\xc0\\xa7\\xfb\\x04\\x94f\\xe7\\xf4\\x98\\x1f\\xbf\\xaaB\\x14\\xaf\\x82\\x8e\\xde\\\\\\xf6s\\xb8\\xaet\\xe5\\xa9\\xe8\\x01\\xc6\\xa6\\x1e\\x1d\\xdc\\xb8\\x11'\n"
     ]
    }
   ],
   "source": []
  }
 ],
 "metadata": {
  "kernelspec": {
   "display_name": "Python 3",
   "language": "python",
   "name": "python3"
  },
  "language_info": {
   "codemirror_mode": {
    "name": "ipython",
    "version": 3
   },
   "file_extension": ".py",
   "mimetype": "text/x-python",
   "name": "python",
   "nbconvert_exporter": "python",
   "pygments_lexer": "ipython3",
   "version": "3.7.4"
  }
 },
 "nbformat": 4,
 "nbformat_minor": 2
}
