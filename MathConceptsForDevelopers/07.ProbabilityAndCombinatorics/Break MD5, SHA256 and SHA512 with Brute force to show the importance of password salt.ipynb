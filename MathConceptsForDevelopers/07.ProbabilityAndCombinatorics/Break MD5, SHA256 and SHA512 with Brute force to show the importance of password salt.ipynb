{
 "cells": [
  {
   "cell_type": "code",
   "execution_count": 14,
   "metadata": {},
   "outputs": [],
   "source": [
    "%matplotlib inline"
   ]
  },
  {
   "cell_type": "code",
   "execution_count": 15,
   "metadata": {},
   "outputs": [],
   "source": [
    "from hashlib import md5, sha256, sha512\n",
    "from time import time\n",
    "from string import printable\n",
    "from itertools import product, count\n",
    "from csv import writer"
   ]
  },
  {
   "cell_type": "markdown",
   "metadata": {},
   "source": [
    "# The importance of keeping passwords hashed and \"salted\" in the database"
   ]
  },
  {
   "cell_type": "markdown",
   "metadata": {},
   "source": [
    "Any computer system that requires password authentication must contain a database of passwords, either obfuscated or in plaintext, and various methods of password storage exist. Because the tables are vulnerable to theft, storing the plaintext password is dangerous. Most databases, therefore, store a cryptographic hash of a user's password in the database. In such a system, no one – including the authentication system – can determine what a user's password is by merely looking at the value stored in the database. Instead, when a user enters a password for authentication, the system computes the hash value for the provided password, and that hash value is compared to the stored hash for that user. Authentication is successful if the two hashes match.\n",
    "\n",
    "Below, I will implement simple brute force algorithm that will try to break the hashed password. I will examine how time is needed to crack the password depending on word legth and cryptography functions that was used.\n"
   ]
  },
  {
   "cell_type": "markdown",
   "metadata": {},
   "source": [
    "### Hash function and their usage \n",
    "\n",
    "Hash function is any function that can be used to map data of arbitrary size to fixed-size values. The values returned by a hash function are called hash values, hash codes, digests, or simply hashes. The values are used to index a fixed-size table called a hash table. Use of a hash function to index a hash table is called hashing or scatter storage addressing."
   ]
  },
  {
   "cell_type": "markdown",
   "metadata": {},
   "source": [
    "### Criptographic hash functions\n",
    "\n",
    "A cryptographic hash function (CHF) is a hash function that is suitable for use in cryptography. It is a mathematical algorithm that maps data of arbitrary size (often called the \"message\") to a bit string of a fixed size (the \"hash value\", \"hash\", or \"message digest\") and is a one-way function, that is, a function which is practically infeasible to invert. Ideally, the only way to find a message that produces a given hash is to attempt a brute-force search of possible inputs to see if they produce a match, or use a rainbow table of matched hashes. Cryptographic hash functions are a basic tool of modern cryptography.\n",
    "\n",
    "The ideal cryptographic hash function has the following main properties:\n",
    "\n",
    "1. It is deterministic, meaning that the same message always results in the same hash\n",
    "2. It is quick to compute the hash value for any given message\n",
    "2. It is infeasible to generate a message that yields a given hash value\n",
    "4. Tt is infeasible to find two different messages with the same hash value\n",
    "a small change to a message should change the hash value so extensively that the new hash value appears uncorrelated with the old hash value (avalanche effect)."
   ]
  },
  {
   "cell_type": "markdown",
   "metadata": {},
   "source": [
    "### Cryptographic hash functions that will be used in this paper\n",
    "\n",
    "**MD5** - The fastest and shortest generated hash (**16 bytes**). The probability of just two hashes accidentally colliding is approximately: $1.47*10^{-29}$.\n",
    "\n",
    "**SHA256** - Is generally 20% slower than md5, the generated hash is a bit longer than MD5 (**20 bytes**). The probability of just two hashes accidentally colliding is approximately: $1*10^{-45}$\n",
    "\n",
    "**SHA512** - The slowest, usually 60% slower than md5, and the longest generated hash (**32 bytes**). The probability of just two hashes accidentally colliding is approximately: $4.3*10^{-60}$."
   ]
  },
  {
   "cell_type": "markdown",
   "metadata": {},
   "source": [
    "### Collision attacks\n",
    "\n",
    "In cryptography, a collision attack on a cryptographic hash tries to find two inputs producing the same hash value, i.e. a hash collision. This is in contrast to a preimage attack where a specific target hash value is specified.\n",
    "\n",
    "There are roughly two types of collision attacks:\n",
    "\n",
    "#### Collision attack\n",
    "Find two different messages m1 and m2 such that hash(m1) = hash(m2).\n",
    "More generally:\n",
    "\n",
    "#### Chosen-prefix collision attack\n",
    "Given two different prefixes p1 and p2, find two appendages m1 and m2 such that hash(p1 ∥ m1) = hash(p2 ∥ m2), where ∥ denotes the concatenation operation.\n",
    "\n",
    "More efficient attacks are possible by employing cryptanalysis to specific hash functions. When a collision attack is discovered and is found to be faster than a birthday attack, a hash function is often denounced as \"broken\". The NIST hash function competition was largely induced by published collision attacks against two very commonly used hash functions, MD5 and SHA-1. The collision attacks against MD5 have improved so much that, as of 2007, it takes just a few seconds on a regular computer. Hash collisions created this way are usually constant length and largely unstructured, so cannot directly be applied to attack widespread document formats or protocols"
   ]
  },
  {
   "cell_type": "markdown",
   "metadata": {},
   "source": [
    "## Web site attacks\n",
    "\n",
    "The simplest way to crack a hash is to try to guess the password, hashing each guess, and checking if the guess's hash equals the hash being cracked. If the hashes are equal, the guess is the password. The two most common ways of guessing passwords are **dictionary attacks** and **brute-force attacks**.\n",
    "\n",
    "A **dictionary attack** uses a file containing words, phrases, common passwords, and other strings that are likely to be used as a password. Each word in the file is hashed, and its hash is compared to the password hash. If they match, that word is the password. These dictionary files are constructed by extracting words from large bodies of text, and even from real databases of passwords. Further processing is often applied to dictionary files, such as replacing words with their \"leet speak\" equivalents (\"hello\" becomes \"h3110\"), to make them more effective.\n",
    "\n",
    "A **brute-force** attack tries every possible combination of characters up to a given length. These attacks are very computationally expensive, and are usually the least efficient in terms of hashes cracked per processor time, but they will always eventually find the password. Passwords should be long enough that searching through all possible character strings to find it will take too long to be worthwhile.\n",
    "\n",
    "There is no way to prevent dictionary attacks or brute force attacks. They can be made less effective, but there isn't a way to prevent them altogether. If your password hashing system is secure, the only way to crack the hashes will be to run a dictionary or brute-force attack on each hash.\n",
    "\n",
    "**Lookup tables** are an extremely effective method for cracking many hashes of the same type very quickly. The general idea is to pre-compute the hashes of the passwords in a password dictionary and store them, and their corresponding password, in a lookup table data structure. A good implementation of a lookup table can process hundreds of hash lookups per second, even when they contain many billions of hashes.\n",
    "\n",
    "**Reverse Lookup tables** attack allows an attacker to apply a dictionary or brute-force attack to many hashes at the same time, without having to pre-compute a lookup table.\n",
    "First, the attacker creates a lookup table that maps each password hash from the compromised user account database to a list of users who had that hash. The attacker then hashes each password guess and uses the lookup table to get a list of users whose password was the attacker's guess. This attack is especially effective because it is common for many users to have the same password.\n",
    "\n",
    "**Rainbow tables** are a time-memory trade-off technique. They are like lookup tables, except that they sacrifice hash cracking speed to make the lookup tables smaller. Because they are smaller, the solutions to more hashes can be stored in the same amount of space, making them more effective. Rainbow tables that can crack any md5 hash of a password up to 8 characters long exist."
   ]
  },
  {
   "cell_type": "markdown",
   "metadata": {},
   "source": []
  },
  {
   "cell_type": "markdown",
   "metadata": {},
   "source": [
    "### Methods for generating random strings, compare hash codes and write final results to csv"
   ]
  },
  {
   "cell_type": "code",
   "execution_count": 30,
   "metadata": {},
   "outputs": [],
   "source": [
    "def passwords(encoding):\n",
    "    chars = [c.encode(encoding) for c in printable]\n",
    "    for length in count(start=1):\n",
    "        for pwd in product(chars, repeat=length):\n",
    "            yield b''.join(pwd)\n",
    "            \n",
    "            \n",
    "def crack(hash_function, search_hash, encoding):\n",
    "    for pwd in passwords(encoding):\n",
    "        if hash_function(pwd).digest() == search_hash:\n",
    "            return pwd.decode(encoding)\n",
    "        \n",
    "        \n",
    "def append_list_to_csv(file_name, list_of_elem):\n",
    "    with open(file_name, 'a+', newline='') as write_obj:\n",
    "        csv_writer = writer(write_obj)\n",
    "        csv_writer.writerow(list_of_elem)\n",
    "        \n",
    "        \n",
    "def calculate_cracking_time(pass_to_crack, encoding, result_file):\n",
    "    hash_funcs = (md5, sha256, sha512)\n",
    "    hash_funcs_names = ('MD5', 'SHA256', 'SHA512')\n",
    "    \n",
    "    for i in range(3):\n",
    "        hashed_pass = hash_funcs[i](pass_to_crack.encode(encoding)).digest()\n",
    "        \n",
    "        start = time()\n",
    "        cracked = crack(hash_funcs[i], hashed_pass, encoding)\n",
    "        end = time()\n",
    "        duration = round(end - start, 6)\n",
    "        \n",
    "        print(f\"Password cracked with {hash_funcs_names[i]}: {cracked} for {duration} seconds\")\n",
    "        append_list_to_csv(result_file,[hash_funcs_names[i], pass_to_crack, cracked, duration])  \n",
    "\n",
    "    "
   ]
  },
  {
   "cell_type": "markdown",
   "metadata": {},
   "source": [
    "### Initial data and passwords hash generation"
   ]
  },
  {
   "cell_type": "code",
   "execution_count": null,
   "metadata": {},
   "outputs": [
    {
     "name": "stdout",
     "output_type": "stream",
     "text": [
      "Password cracked with MD5: reI2E for 2866.214613 seconds\n",
      "Password cracked with SHA256: reI2E for 3174.253767 seconds\n"
     ]
    }
   ],
   "source": [
    "encoding = 'ascii'  # utf-8 for unicode support\n",
    "password = 'reI2E' # type password to broke here\n",
    "csv_file = 'data.csv'\n",
    "\n",
    "calculate_cracking_time(password, encoding, csv_file)\n"
   ]
  },
  {
   "cell_type": "code",
   "execution_count": null,
   "metadata": {},
   "outputs": [],
   "source": [
    "data = [1.2, 2.4, 4.2]\n",
    "data.average()"
   ]
  },
  {
   "cell_type": "markdown",
   "metadata": {},
   "source": [
    "## Result table\n",
    "| Average time | 2 | 3 | 4 | 5 | 6 |\n",
    "|--------------|---|---|---|---|---|\n",
    "| Word Length  | 2 | 3 | 4 | 5 | 6 |\n",
    "| MD5          |   |   |   |   |   |\n",
    "| SHA256       |   |   |   |   |   |\n",
    "| SHA512       |   |   |   |   |   |\n",
    "\n"
   ]
  },
  {
   "cell_type": "markdown",
   "metadata": {},
   "source": [
    "## Salting the password\n",
    "\n",
    "A technique called **salting**, which makes it impossible to use lookup tables and rainbow tables to crack a hash.\n",
    "\n",
    "Lookup tables and rainbow tables only work because each password is hashed the exact same way. If two users have the same password, they'll have the same password hashes. We can prevent these attacks by randomizing each hash, so that when the same password is hashed twice, the hashes are not the same.\n",
    "\n",
    "We can randomize the hashes by appending or prepending a random string, called a **salt**, to the password before hashing. As shown in the example above, this makes the same password hash into a completely different string every time. To check if a password is correct, we need the salt, so it is usually stored in the user account database along with the hash, or as part of the hash string itself.\n",
    "\n",
    "The salt does not need to be secret. Just by randomizing the hashes, lookup tables, reverse lookup tables, and rainbow tables become ineffective. An attacker won't know in advance what the salt will be, so they can't pre-compute a lookup table or rainbow table. If each user's password is hashed with a different salt, the reverse lookup table attack won't work either."
   ]
  },
  {
   "cell_type": "markdown",
   "metadata": {},
   "source": [
    "### For given password calculate time and write output to file"
   ]
  },
  {
   "cell_type": "markdown",
   "metadata": {},
   "source": [
    "### References\n",
    "\n",
    "Wikipedia\n",
    "https://crackstation.net/hashing-security.htm"
   ]
  }
 ],
 "metadata": {
  "kernelspec": {
   "display_name": "Python 3",
   "language": "python",
   "name": "python3"
  },
  "language_info": {
   "codemirror_mode": {
    "name": "ipython",
    "version": 3
   },
   "file_extension": ".py",
   "mimetype": "text/x-python",
   "name": "python",
   "nbconvert_exporter": "python",
   "pygments_lexer": "ipython3",
   "version": "3.7.4"
  }
 },
 "nbformat": 4,
 "nbformat_minor": 2
}
