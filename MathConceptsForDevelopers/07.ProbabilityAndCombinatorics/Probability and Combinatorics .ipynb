{
 "cells": [
  {
   "cell_type": "code",
   "execution_count": 1,
   "metadata": {},
   "outputs": [],
   "source": [
    "%matplotlib inline"
   ]
  },
  {
   "cell_type": "code",
   "execution_count": 53,
   "metadata": {},
   "outputs": [],
   "source": [
    "import numpy as np\n",
    "import matplotlib.pyplot as plt\n",
    "import random\n",
    "from collections import Counter"
   ]
  },
  {
   "cell_type": "markdown",
   "metadata": {},
   "source": [
    "## Monty Hall Problem"
   ]
  },
  {
   "cell_type": "code",
   "execution_count": 43,
   "metadata": {},
   "outputs": [
    {
     "name": "stdout",
     "output_type": "stream",
     "text": [
      "Percentage of won cars if chose is not changed: 33.42%\n"
     ]
    }
   ],
   "source": [
    "dice = ('G','G','C') # Goat, Goat , Car\n",
    "\n",
    "#Alwas keep initial choice\n",
    "\n",
    "win_car = 0\n",
    "iterations = 100_000\n",
    "\n",
    "for i in range(iterations):\n",
    "    random_pick = random.randrange(0,3)\n",
    "    if(dice[random_pick] == 'C'):\n",
    "        win_car += 1\n",
    "perc_won = round((win_car / iterations) * 100,2)\n",
    "print(f'Percentage of won cars if chose is not changed: {perc_won}%')"
   ]
  },
  {
   "cell_type": "code",
   "execution_count": 44,
   "metadata": {},
   "outputs": [
    {
     "name": "stdout",
     "output_type": "stream",
     "text": [
      "Percentage of won cars if always chose different from initial choice: 66.71%\n"
     ]
    }
   ],
   "source": [
    "# after each try, we can see where is the hidden G and we always chaneg initial choice\n",
    "\n",
    "win_car = 0\n",
    "for i in range(iterations):\n",
    "    random_pick = random.randrange(0,3)\n",
    "    if random_pick == 0 : # index 1 is reavealed and we win after initial change\n",
    "        win_car += 1\n",
    "    elif random_pick == 1: # index 0 is reavealed and we win after initial change\n",
    "        win_car += 1\n",
    "\n",
    "mind_chaneg_perc = round((win_car / iterations) * 100,2)\n",
    "print(f'Percentage of won cars if always chose different from initial choice: {mind_chaneg_perc}%')"
   ]
  },
  {
   "cell_type": "markdown",
   "metadata": {},
   "source": [
    "## Lecture\n"
   ]
  },
  {
   "cell_type": "code",
   "execution_count": 71,
   "metadata": {},
   "outputs": [],
   "source": [
    "dice_throw = np.random.randint(1,7, size = 100)"
   ]
  },
  {
   "cell_type": "code",
   "execution_count": 69,
   "metadata": {},
   "outputs": [
    {
     "data": {
      "text/plain": [
       "0.2"
      ]
     },
     "execution_count": 69,
     "metadata": {},
     "output_type": "execute_result"
    }
   ],
   "source": [
    "(dice_throw ==3).astype(int).sum() / len(dice_throw)"
   ]
  },
  {
   "cell_type": "code",
   "execution_count": 72,
   "metadata": {},
   "outputs": [
    {
     "data": {
      "image/png": "[encoded data removed]",
      "text/plain": [
       "<Figure size 432x288 with 1 Axes>"
      ]
     },
     "metadata": {
      "needs_background": "light"
     },
     "output_type": "display_data"
    }
   ],
   "source": [
    "plt.hist(dice_throw, bins = [1,2,3,4,5,6,7])\n",
    "plt.show()"
   ]
  },
  {
   "cell_type": "code",
   "execution_count": 75,
   "metadata": {},
   "outputs": [
    {
     "name": "stdout",
     "output_type": "stream",
     "text": [
      "[(2, 21), (3, 18), (1, 16), (6, 16), (4, 15), (5, 14)]\n"
     ]
    }
   ],
   "source": [
    "counter = Counter(dice_throw)\n",
    "print(counter.most_common())"
   ]
  },
  {
   "cell_type": "code",
   "execution_count": 76,
   "metadata": {},
   "outputs": [
    {
     "data": {
      "image/png": "[encoded data removed]",
      "text/plain": [
       "<Figure size 432x288 with 1 Axes>"
      ]
     },
     "metadata": {
      "needs_background": "light"
     },
     "output_type": "display_data"
    }
   ],
   "source": [
    "plt.bar(counter.keys(), counter.values())\n",
    "plt.show()"
   ]
  },
  {
   "cell_type": "markdown",
   "metadata": {},
   "source": [
    "### Fisher - Yates. Algotithm for shufflibg"
   ]
  },
  {
   "cell_type": "code",
   "execution_count": null,
   "metadata": {},
   "outputs": [],
   "source": []
  },
  {
   "cell_type": "code",
   "execution_count": null,
   "metadata": {},
   "outputs": [],
   "source": []
  }
 ],
 "metadata": {
  "kernelspec": {
   "display_name": "Python 3",
   "language": "python",
   "name": "python3"
  },
  "language_info": {
   "codemirror_mode": {
    "name": "ipython",
    "version": 3
   },
   "file_extension": ".py",
   "mimetype": "text/x-python",
   "name": "python",
   "nbconvert_exporter": "python",
   "pygments_lexer": "ipython3",
   "version": "3.7.4"
  }
 },
 "nbformat": 4,
 "nbformat_minor": 2
}
