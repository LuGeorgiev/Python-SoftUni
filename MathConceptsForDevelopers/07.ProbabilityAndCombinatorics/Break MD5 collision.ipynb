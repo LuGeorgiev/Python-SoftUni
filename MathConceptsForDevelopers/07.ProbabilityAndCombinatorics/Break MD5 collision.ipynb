{
 "cells": [
  {
   "cell_type": "code",
   "execution_count": 2,
   "metadata": {},
   "outputs": [],
   "source": [
    "%matplotlib inline"
   ]
  },
  {
   "cell_type": "code",
   "execution_count": 3,
   "metadata": {},
   "outputs": [],
   "source": [
    "from hashlib import md5, sha256, sha512\n",
    "from time import time\n",
    "from string import printable\n",
    "from itertools import product, count\n",
    "from csv import writer"
   ]
  },
  {
   "cell_type": "markdown",
   "metadata": {},
   "source": [
    "## Break MD5 hashing algorithm using brute force and collision"
   ]
  },
  {
   "cell_type": "markdown",
   "metadata": {},
   "source": [
    "MD5: The fastest and shortest generated hash (16 bytes). The probability of just two hashes accidentally colliding is approximately: 1.47*10-29.\n",
    "\n",
    "SHA1: Is generally 20% slower than md5, the generated hash is a bit longer than MD5 (20 bytes). The probability of just two hashes accidentally colliding is approximately: 1*10-45\n",
    "\n",
    "SHA256: The slowest, usually 60% slower than md5, and the longest generated hash (32 bytes). The probability of just two hashes accidentally colliding is approximately: 4.3*10-60."
   ]
  },
  {
   "cell_type": "markdown",
   "metadata": {},
   "source": [
    "### Methods for generating random strings, compare hash codes and write final results to csv"
   ]
  },
  {
   "cell_type": "code",
   "execution_count": 4,
   "metadata": {},
   "outputs": [],
   "source": [
    "def passwords(encoding):\n",
    "    chars = [c.encode(encoding) for c in printable]\n",
    "    for length in count(start=1):\n",
    "        for pwd in product(chars, repeat=length):\n",
    "            yield b''.join(pwd)\n",
    "\n",
    "\n",
    "def crack_md5(search_hash, encoding):\n",
    "    for pwd in passwords(encoding):\n",
    "        if md5(pwd).digest() == search_hash:\n",
    "            return pwd.decode(encoding)\n",
    "        \n",
    "        \n",
    "def crack_sha256(search_hash, encoding):\n",
    "    for pwd in passwords(encoding):\n",
    "        if sha256(pwd).digest() == search_hash:\n",
    "            return pwd.decode(encoding)\n",
    "        \n",
    "\n",
    "def crack_sha512(search_hash, encoding):\n",
    "    for pwd in passwords(encoding):\n",
    "        if sha512(pwd).digest() == search_hash:\n",
    "            return pwd.decode(encoding)\n",
    "        \n",
    "        \n",
    "def append_list_to_csv(file_name, list_of_elem):\n",
    "    with open(file_name, 'a+', newline='') as write_obj:\n",
    "        csv_writer = writer(write_obj)\n",
    "        csv_writer.writerow(list_of_elem)"
   ]
  },
  {
   "cell_type": "markdown",
   "metadata": {},
   "source": [
    "### Initial data and passwords hash generation"
   ]
  },
  {
   "cell_type": "code",
   "execution_count": 12,
   "metadata": {},
   "outputs": [],
   "source": [
    "encoding = 'ascii'  # utf-8 for unicode support\n",
    "password = 'P1na~n'\n",
    "csv_file = 'data.csv'\n",
    "\n",
    "hash_md5 = md5(password.encode(encoding)).digest()\n",
    "hash_sha256 = sha256(password.encode(encoding)).digest()\n",
    "hash_sha512 = sha512(password.encode(encoding)).digest()\n"
   ]
  },
  {
   "cell_type": "markdown",
   "metadata": {},
   "source": [
    "### For given password calculate time and write output to file"
   ]
  },
  {
   "cell_type": "code",
   "execution_count": 13,
   "metadata": {},
   "outputs": [
    {
     "ename": "KeyboardInterrupt",
     "evalue": "",
     "output_type": "error",
     "traceback": [
      "\u001b[1;31m---------------------------------------------------------------------------\u001b[0m",
      "\u001b[1;31mKeyboardInterrupt\u001b[0m                         Traceback (most recent call last)",
      "\u001b[1;32m<ipython-input-13-e93bf867f6a7>\u001b[0m in \u001b[0;36m<module>\u001b[1;34m\u001b[0m\n\u001b[0;32m      1\u001b[0m \u001b[0mstart\u001b[0m \u001b[1;33m=\u001b[0m \u001b[0mtime\u001b[0m\u001b[1;33m(\u001b[0m\u001b[1;33m)\u001b[0m\u001b[1;33m\u001b[0m\u001b[1;33m\u001b[0m\u001b[0m\n\u001b[1;32m----> 2\u001b[1;33m \u001b[0mcracked\u001b[0m \u001b[1;33m=\u001b[0m \u001b[0mcrack_md5\u001b[0m\u001b[1;33m(\u001b[0m\u001b[0mhash_md5\u001b[0m\u001b[1;33m,\u001b[0m \u001b[0mencoding\u001b[0m\u001b[1;33m)\u001b[0m\u001b[1;33m\u001b[0m\u001b[1;33m\u001b[0m\u001b[0m\n\u001b[0m\u001b[0;32m      3\u001b[0m \u001b[0mend\u001b[0m \u001b[1;33m=\u001b[0m \u001b[0mtime\u001b[0m\u001b[1;33m(\u001b[0m\u001b[1;33m)\u001b[0m\u001b[1;33m\u001b[0m\u001b[1;33m\u001b[0m\u001b[0m\n\u001b[0;32m      4\u001b[0m \u001b[0mmd5_time\u001b[0m \u001b[1;33m=\u001b[0m \u001b[0mround\u001b[0m\u001b[1;33m(\u001b[0m\u001b[0mend\u001b[0m \u001b[1;33m-\u001b[0m \u001b[0mstart\u001b[0m\u001b[1;33m,\u001b[0m \u001b[1;36m6\u001b[0m\u001b[1;33m)\u001b[0m\u001b[1;33m\u001b[0m\u001b[1;33m\u001b[0m\u001b[0m\n\u001b[0;32m      5\u001b[0m \u001b[1;33m\u001b[0m\u001b[0m\n",
      "\u001b[1;32m<ipython-input-4-691a88936198>\u001b[0m in \u001b[0;36mcrack_md5\u001b[1;34m(search_hash, encoding)\u001b[0m\n\u001b[0;32m      8\u001b[0m \u001b[1;32mdef\u001b[0m \u001b[0mcrack_md5\u001b[0m\u001b[1;33m(\u001b[0m\u001b[0msearch_hash\u001b[0m\u001b[1;33m,\u001b[0m \u001b[0mencoding\u001b[0m\u001b[1;33m)\u001b[0m\u001b[1;33m:\u001b[0m\u001b[1;33m\u001b[0m\u001b[1;33m\u001b[0m\u001b[0m\n\u001b[0;32m      9\u001b[0m     \u001b[1;32mfor\u001b[0m \u001b[0mpwd\u001b[0m \u001b[1;32min\u001b[0m \u001b[0mpasswords\u001b[0m\u001b[1;33m(\u001b[0m\u001b[0mencoding\u001b[0m\u001b[1;33m)\u001b[0m\u001b[1;33m:\u001b[0m\u001b[1;33m\u001b[0m\u001b[1;33m\u001b[0m\u001b[0m\n\u001b[1;32m---> 10\u001b[1;33m         \u001b[1;32mif\u001b[0m \u001b[0mmd5\u001b[0m\u001b[1;33m(\u001b[0m\u001b[0mpwd\u001b[0m\u001b[1;33m)\u001b[0m\u001b[1;33m.\u001b[0m\u001b[0mdigest\u001b[0m\u001b[1;33m(\u001b[0m\u001b[1;33m)\u001b[0m \u001b[1;33m==\u001b[0m \u001b[0msearch_hash\u001b[0m\u001b[1;33m:\u001b[0m\u001b[1;33m\u001b[0m\u001b[1;33m\u001b[0m\u001b[0m\n\u001b[0m\u001b[0;32m     11\u001b[0m             \u001b[1;32mreturn\u001b[0m \u001b[0mpwd\u001b[0m\u001b[1;33m.\u001b[0m\u001b[0mdecode\u001b[0m\u001b[1;33m(\u001b[0m\u001b[0mencoding\u001b[0m\u001b[1;33m)\u001b[0m\u001b[1;33m\u001b[0m\u001b[1;33m\u001b[0m\u001b[0m\n\u001b[0;32m     12\u001b[0m \u001b[1;33m\u001b[0m\u001b[0m\n",
      "\u001b[1;31mKeyboardInterrupt\u001b[0m: "
     ]
    }
   ],
   "source": [
    "start = time()\n",
    "cracked = crack_md5(hash_md5, encoding)\n",
    "end = time()\n",
    "md5_time = round(end - start, 6)\n",
    "\n",
    "print(f\"Password cracked with MD5: {cracked} for {md5_time} seconds\")\n",
    "append_list_to_csv(csv_file,['MD5',password,cracked,md5_time])\n",
    "\n",
    "start = time()\n",
    "cracked = crack_sha256(hash_sha256, encoding)\n",
    "end = time()\n",
    "sha256_time = round(end - start,6)\n",
    "\n",
    "print(f\"Password cracked with SHA256: {cracked} for {sha256_time} seconds\")\n",
    "append_list_to_csv(csv_file,['SHA256',password,cracked,sha256_time])\n",
    "\n",
    "start = time()\n",
    "cracked = crack_sha512(hash_sha512, encoding)\n",
    "end = time()\n",
    "sha512_time = round(end - start,6)\n",
    "\n",
    "print(f\"Password cracked with SHA512: {cracked} for {sha512_time} seconds\")\n",
    "append_list_to_csv(csv_file,['SHA512',password,cracked,sha512_time])\n"
   ]
  },
  {
   "cell_type": "code",
   "execution_count": 6,
   "metadata": {},
   "outputs": [
    {
     "name": "stdout",
     "output_type": "stream",
     "text": [
      "b'lO7'\n"
     ]
    }
   ],
   "source": []
  },
  {
   "cell_type": "code",
   "execution_count": 21,
   "metadata": {},
   "outputs": [
    {
     "name": "stdout",
     "output_type": "stream",
     "text": [
      "b'K\\xe9\\xb5\\xf8E\\x0f\\xadgg\\x19<\\x7ff\\x9a\\xd9\\xc6\\xb3\\xb5\\xe8\\x9c\\xafac(M\\x0b\\xf5\\xd2\\xd9\\xc0\\xa7\\xfb\\x04\\x94f\\xe7\\xf4\\x98\\x1f\\xbf\\xaaB\\x14\\xaf\\x82\\x8e\\xde\\\\\\xf6s\\xb8\\xaet\\xe5\\xa9\\xe8\\x01\\xc6\\xa6\\x1e\\x1d\\xdc\\xb8\\x11'\n"
     ]
    }
   ],
   "source": []
  }
 ],
 "metadata": {
  "kernelspec": {
   "display_name": "Python 3",
   "language": "python",
   "name": "python3"
  },
  "language_info": {
   "codemirror_mode": {
    "name": "ipython",
    "version": 3
   },
   "file_extension": ".py",
   "mimetype": "text/x-python",
   "name": "python",
   "nbconvert_exporter": "python",
   "pygments_lexer": "ipython3",
   "version": "3.7.4"
  }
 },
 "nbformat": 4,
 "nbformat_minor": 2
}
