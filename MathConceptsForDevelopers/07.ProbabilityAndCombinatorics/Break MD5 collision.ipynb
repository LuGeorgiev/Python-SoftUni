{
 "cells": [
  {
   "cell_type": "code",
   "execution_count": 11,
   "metadata": {},
   "outputs": [],
   "source": [
    "%matplotlib inline"
   ]
  },
  {
   "cell_type": "code",
   "execution_count": 12,
   "metadata": {},
   "outputs": [],
   "source": [
    "from hashlib import md5\n",
    "from time import time\n",
    "from string import printable\n",
    "from itertools import product, count"
   ]
  },
  {
   "cell_type": "markdown",
   "metadata": {},
   "source": [
    "## Break MD5 hashing algorithm using brute force and collision"
   ]
  },
  {
   "cell_type": "markdown",
   "metadata": {},
   "source": [
    "MD5: The fastest and shortest generated hash (16 bytes). The probability of just two hashes accidentally colliding is approximately: 1.47*10-29.\n",
    "\n",
    "SHA1: Is generally 20% slower than md5, the generated hash is a bit longer than MD5 (20 bytes). The probability of just two hashes accidentally colliding is approximately: 1*10-45\n",
    "\n",
    "SHA256: The slowest, usually 60% slower than md5, and the longest generated hash (32 bytes). The probability of just two hashes accidentally colliding is approximately: 4.3*10-60."
   ]
  },
  {
   "cell_type": "code",
   "execution_count": 13,
   "metadata": {},
   "outputs": [],
   "source": [
    "def passwords(encoding):\n",
    "    chars = [c.encode(encoding) for c in printable]\n",
    "    for length in count(start=1):\n",
    "        for pwd in product(chars, repeat=length):\n",
    "            yield b''.join(pwd)\n",
    "\n",
    "\n",
    "def crack(search_hash, encoding):\n",
    "    for pwd in passwords(encoding):\n",
    "        if md5(pwd).digest() == search_hash:\n",
    "            return pwd.decode(encoding)"
   ]
  },
  {
   "cell_type": "code",
   "execution_count": 16,
   "metadata": {},
   "outputs": [
    {
     "name": "stdout",
     "output_type": "stream",
     "text": [
      "Password cracked: hYj-&\n",
      "Time: 3457.683538198471 seconds.\n"
     ]
    }
   ],
   "source": [
    "encoding = 'ascii'  # utf-8 for unicode support\n",
    "password = 'hYj-&'\n",
    "password_hash = md5(password.encode(encoding)).digest()\n",
    "\n",
    "start = time()\n",
    "cracked = crack(password_hash, encoding)\n",
    "end = time()\n",
    "print(f\"Password cracked: {cracked}\")\n",
    "print(f\"Time: {end - start} seconds.\")"
   ]
  },
  {
   "cell_type": "code",
   "execution_count": 8,
   "metadata": {},
   "outputs": [],
   "source": [
    "x= count(start=1)"
   ]
  },
  {
   "cell_type": "code",
   "execution_count": 9,
   "metadata": {},
   "outputs": [
    {
     "name": "stdout",
     "output_type": "stream",
     "text": [
      "count(1)\n"
     ]
    }
   ],
   "source": [
    "print(x)"
   ]
  }
 ],
 "metadata": {
  "kernelspec": {
   "display_name": "Python 3",
   "language": "python",
   "name": "python3"
  },
  "language_info": {
   "codemirror_mode": {
    "name": "ipython",
    "version": 3
   },
   "file_extension": ".py",
   "mimetype": "text/x-python",
   "name": "python",
   "nbconvert_exporter": "python",
   "pygments_lexer": "ipython3",
   "version": "3.7.4"
  }
 },
 "nbformat": 4,
 "nbformat_minor": 2
}
