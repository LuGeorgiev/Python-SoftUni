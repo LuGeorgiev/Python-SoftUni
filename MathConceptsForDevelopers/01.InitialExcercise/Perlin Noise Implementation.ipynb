{
 "cells": [
  {
   "cell_type": "markdown",
   "metadata": {},
   "source": [
    "# Implementation of  Perlin Noise improved version  "
   ]
  },
  {
   "cell_type": "code",
   "execution_count": 20,
   "metadata": {},
   "outputs": [],
   "source": [
    "import numpy as np\n",
    "import matplotlib.pyplot as plt"
   ]
  },
  {
   "cell_type": "markdown",
   "metadata": {},
   "source": [
    "#### setup permutation table"
   ]
  },
  {
   "cell_type": "code",
   "execution_count": 2,
   "metadata": {},
   "outputs": [],
   "source": [
    "permutation = [151,160,137,91,90,15,131,13,201,95,96,53,194,233,7,225,140,36,103,30,69,142,8,99,37,240,21,10,23,190, 6,148,247,120,234,75,0,26,197,62,94,252,219,203,117,35,11,32,57,177,33,88,237,149,56,87,174,20,125,136,171,168, 68,175,74,165,71,134,139,48,27,166,77,146,158,231,83,111,229,122,60,211,133,230,220,105,92,41,55,46,245,40,244,102,143,54, 65,25,63,161, 1,216,80,73,209,76,132,187,208, 89,18,169,200,196,135,130,116,188,159,86,164,100,109,198,173,186, 3,64,52,217,226,250,124,123,5,202,38,147,118,126,255,82,85,212,207,206,59,227,47,16,58,17,182,189,28,42,223,183,170,213,119,248,152, 2,44,154,163, 70,221,153,101,155,167, 43,172,9,129,22,39,253, 19,98,108,110,79,113,224,232,178,185, 112,104,218,246,97,228,251,34,242,193,238,210,144,12,191,179,162,241, 81,51,145,235,249,14,239,107,49,192,214, 31,181,199,106,157,184, 84,204,176,115,121,50,45,127, 4,150,254,138,236,205,93,222,114,67,29,24,72,243,141,128,195,78,66,215,61,156,180]"
   ]
  },
  {
   "cell_type": "markdown",
   "metadata": {},
   "source": [
    "#### enlarged array permutation function that will be used for hashing and will avoid overflow"
   ]
  },
  {
   "cell_type": "code",
   "execution_count": 3,
   "metadata": {},
   "outputs": [],
   "source": [
    "p = []"
   ]
  },
  {
   "cell_type": "code",
   "execution_count": 4,
   "metadata": {},
   "outputs": [],
   "source": [
    "for x in range(0, 512):\n",
    "    p.append(permutation[x % 256])"
   ]
  },
  {
   "cell_type": "markdown",
   "metadata": {},
   "source": [
    "## Repeat constant should limit the number of repetition"
   ]
  },
  {
   "cell_type": "code",
   "execution_count": 5,
   "metadata": {},
   "outputs": [],
   "source": [
    "repeat = -1"
   ]
  },
  {
   "cell_type": "markdown",
   "metadata": {},
   "source": [
    "#### Increment function for better hashing "
   ]
  },
  {
   "cell_type": "code",
   "execution_count": 6,
   "metadata": {},
   "outputs": [],
   "source": [
    "def inc(num):\n",
    "    num += 1\n",
    "    if repeat > 0 :\n",
    "        num = num % repeat\n",
    "    \n",
    "    return num"
   ]
  },
  {
   "cell_type": "markdown",
   "metadata": {},
   "source": [
    "#### Fade function\n",
    "<p>Fade function as defined by Ken Perlin.  This eases coordinate values so that they will \"ease\" towards integral values.  This ends up smoothing the final output.</p>"
   ]
  },
  {
   "cell_type": "code",
   "execution_count": 7,
   "metadata": {},
   "outputs": [],
   "source": [
    "# 6t^5 - 15t^4 + 10t^3\n",
    "def fade(t):\n",
    "    return t * t * t *(t * (t * 6 - 15) + 10)"
   ]
  },
  {
   "cell_type": "markdown",
   "metadata": {},
   "source": [
    "#### Lerp function\n",
    "<p>Linear Interpolate</p>"
   ]
  },
  {
   "cell_type": "code",
   "execution_count": 8,
   "metadata": {},
   "outputs": [],
   "source": [
    "def lerp(a, b, x):\n",
    "    return a + x * (b - a)"
   ]
  },
  {
   "cell_type": "markdown",
   "metadata": {},
   "source": [
    "#### Grad function\n"
   ]
  },
  {
   "cell_type": "code",
   "execution_count": 9,
   "metadata": {},
   "outputs": [],
   "source": [
    "def grad(hash, x, y, z):\n",
    "    h = hash & 15             #Take the hashed value and take the first 4 bits of it (15 == 0b1111)\n",
    "    u = x if h < 8 else y     #f the most significant bit (MSB) of the hash is 0 then set u = x.  Otherwise y.\n",
    "    v = 0.0\n",
    "    \n",
    "    if h < 4:                 \n",
    "        v = y                 #If the first and second significant bits are 0 set v = y\n",
    "    elif h == 12 or h == 14 :\n",
    "        v = x                 #If the first and second significant bits are 1 set v = x\n",
    "    else :\n",
    "        v = z                 #If the first and second significant bits are not equal (0/1, 1/0) set v = z\n",
    "    \n",
    "    #Use the last 2 bits to decide if u and v are positive or negative.  Then return their addition.\n",
    "    return (u if (h & 1) == 0 else -u) + (v if (h & 2) == 0 else -v)"
   ]
  },
  {
   "cell_type": "markdown",
   "metadata": {},
   "source": [
    "### Perlin noise finction"
   ]
  },
  {
   "cell_type": "code",
   "execution_count": 10,
   "metadata": {},
   "outputs": [],
   "source": [
    "def perlin(x, y, z):\n",
    "    if repeat > 0 :                  #If we have any repeat on, change the coordinates to their \"local\" repetitions \n",
    "        x = x % repeat        \n",
    "        y = y % repeat        \n",
    "        z = z % repeat\n",
    "    \n",
    "    #Calculate the \"unit cube\" that the point asked will be located in\n",
    "    #The left bound is ( |_x_|,|_y_|,|_z_| ) and the right bound is that\n",
    "    #plus 1.  Next we calculate the location (from 0.0 to 1.0) in that cube.\n",
    "    #We also fade the location to smooth the result.\n",
    "\n",
    "    xi = int(x) & 255               \n",
    "    yi = int(y) & 255    \n",
    "    zi = int(z) & 255   \n",
    "    \n",
    "    xf = x - int(x)\n",
    "    yf = y - int(y)    \n",
    "    zf = z - int(z)\n",
    "    u = fade(xf)\n",
    "    v = fade(yf)\n",
    "    w = fade(zf)       \n",
    "    \n",
    "    aaa = p[p[p[xi] + yi ]+ zi]\n",
    "    aba = p[p[p[xi] + inc(yi)] + zi]\n",
    "    aab = p[p[p[xi] + yi ]+ inc(zi)]\n",
    "    abb = p[p[p[xi] + inc(yi)]+ inc(zi)]\n",
    "    baa = p[p[p[inc(xi)] + yi ]+ zi]\n",
    "    bba = p[p[p[inc(xi)] + inc(yi)]+ zi]\n",
    "    bab = p[p[p[inc(xi)] + yi]+inc(zi)]\n",
    "    bbb = p[p[p[inc(xi)] + inc(yi)]+inc(zi)]\n",
    "    \n",
    "    #The gradient function calculates the dot product between a pseudorandom\n",
    "    #gradient vector and the vector from the input coordinate to the 8\n",
    "    #surrounding points in its unit cube.\n",
    "    #This is all then lerped together as a sort of weighted average based on the faded (u,v,w)\n",
    "    #values we made earlier.\n",
    "\n",
    "    x1 = lerp(grad (aaa, xf  , yf  , zf),grad(baa, xf-1, yf  , zf), u)\n",
    "    x2 = lerp(grad (aba, xf  , yf-1, zf),grad(bba, xf-1, yf-1, zf), u)\n",
    "    y1 = lerp(x1, x2, v)\n",
    "\n",
    "    x1 = lerp(grad (aab, xf  , yf  , zf-1),grad (bab, xf-1, yf , zf-1), u)\n",
    "    x2 = lerp(grad (abb, xf  , yf-1, zf-1),grad (bbb, xf-1, yf-1, zf-1), u)\n",
    "    y2 = lerp (x1, x2, v)\n",
    "\n",
    "    return (lerp(y1, y2, w) + 1) / 2.0"
   ]
  },
  {
   "cell_type": "markdown",
   "metadata": {},
   "source": [
    "## Perlin Noise Octaves function"
   ]
  },
  {
   "cell_type": "code",
   "execution_count": 11,
   "metadata": {},
   "outputs": [],
   "source": [
    "def octave_perlin(x, y, z, octaves, persistence):\n",
    "    total = 0\n",
    "    frequency = 1\n",
    "    amplitude = 1\n",
    "    max_value = 0\n",
    "    \n",
    "    for i in range(0, octaves):\n",
    "        total += perlin(x * frequency, y * frequency, z * frequency) * amplitude\n",
    "        max_value += amplitude\n",
    "        amplitude *= 2\n",
    "        frequency *= 2\n",
    "    \n",
    "    return total/max_value"
   ]
  },
  {
   "cell_type": "markdown",
   "metadata": {},
   "source": [
    "# Generate Perlin voice"
   ]
  },
  {
   "cell_type": "code",
   "execution_count": 12,
   "metadata": {},
   "outputs": [
    {
     "name": "stdout",
     "output_type": "stream",
     "text": [
      "0.5\n"
     ]
    }
   ],
   "source": [
    "result = octave_perlin(1, 2, 3, 3, 2)\n",
    "print(result)"
   ]
  },
  {
   "cell_type": "code",
   "execution_count": 23,
   "metadata": {},
   "outputs": [
    {
     "data": {
      "text/plain": [
       "[<matplotlib.lines.Line2D at 0x20786ee5908>]"
      ]
     },
     "execution_count": 23,
     "metadata": {},
     "output_type": "execute_result"
    },
    {
     "data": {
      "image/png": "[encoded data removed]",
      "text/plain": [
       "<Figure size 432x288 with 1 Axes>"
      ]
     },
     "metadata": {
      "needs_background": "light"
     },
     "output_type": "display_data"
    }
   ],
   "source": [
    "x_axis = np.linspace(1,1000, 1)\n",
    "y_axis = [octave_perlin(num, 0, 0, 2, 2) for num in x_axis ]\n",
    "\n",
    "plt.plot(x_axis,y_axis)"
   ]
  }
 ],
 "metadata": {
  "kernelspec": {
   "display_name": "Python 3",
   "language": "python",
   "name": "python3"
  },
  "language_info": {
   "codemirror_mode": {
    "name": "ipython",
    "version": 3
   },
   "file_extension": ".py",
   "mimetype": "text/x-python",
   "name": "python",
   "nbconvert_exporter": "python",
   "pygments_lexer": "ipython3",
   "version": "3.7.4"
  }
 },
 "nbformat": 4,
 "nbformat_minor": 2
}
