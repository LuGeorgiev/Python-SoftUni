{
 "cells": [
  {
   "cell_type": "code",
   "execution_count": 1,
   "metadata": {},
   "outputs": [],
   "source": [
    "%matplotlib inline"
   ]
  },
  {
   "cell_type": "code",
   "execution_count": 2,
   "metadata": {},
   "outputs": [],
   "source": [
    "import numpy as np\n",
    "import matplotlib.pyplot as plt"
   ]
  },
  {
   "cell_type": "code",
   "execution_count": 34,
   "metadata": {},
   "outputs": [],
   "source": [
    "def birthday_paradox_probability(min_kids, max_kids ):\n",
    "    percent_by_kids = {}\n",
    "    for kids in range(min_kids, max_kids +1):\n",
    "        number_of_samples = 100_000\n",
    "        counter = 0\n",
    "        for i in range(number_of_samples):\n",
    "            students_in_class = kids\n",
    "\n",
    "            # dates will be integer from 0 to 365 in sake of simulation\n",
    "            dates = np.random.randint(0,366,students_in_class)\n",
    "            if len(np.unique(dates)) <  students_in_class:\n",
    "                counter += 1\n",
    "        percent_by_kids[kids] = round(counter / number_of_samples * 100,2)\n",
    "        \n",
    "    return percent_by_kids"
   ]
  },
  {
   "cell_type": "code",
   "execution_count": 42,
   "metadata": {},
   "outputs": [
    {
     "data": {
      "text/plain": [
       "{5: 2.7,\n",
       " 6: 4.07,\n",
       " 7: 5.52,\n",
       " 8: 7.58,\n",
       " 9: 9.46,\n",
       " 10: 11.87,\n",
       " 11: 14.03,\n",
       " 12: 16.53,\n",
       " 13: 19.41,\n",
       " 14: 22.34,\n",
       " 15: 25.35,\n",
       " 16: 28.27,\n",
       " 17: 31.57,\n",
       " 18: 34.64,\n",
       " 19: 37.95,\n",
       " 20: 41.0,\n",
       " 21: 44.27,\n",
       " 22: 47.28,\n",
       " 23: 50.48,\n",
       " 24: 53.59,\n",
       " 25: 56.4,\n",
       " 26: 59.58,\n",
       " 27: 62.67,\n",
       " 28: 65.36,\n",
       " 29: 67.85,\n",
       " 30: 70.62,\n",
       " 31: 72.83,\n",
       " 32: 75.1,\n",
       " 33: 77.44,\n",
       " 34: 79.41,\n",
       " 35: 81.55,\n",
       " 36: 82.99,\n",
       " 37: 84.75,\n",
       " 38: 86.36,\n",
       " 39: 87.84,\n",
       " 40: 89.0,\n",
       " 41: 90.19,\n",
       " 42: 91.43,\n",
       " 43: 92.28,\n",
       " 44: 93.1,\n",
       " 45: 94.08}"
      ]
     },
     "execution_count": 42,
     "metadata": {},
     "output_type": "execute_result"
    }
   ],
   "source": [
    "calculated_probability = birthday_paradox_probability(5,45)\n",
    "calculated_probability"
   ]
  },
  {
   "cell_type": "code",
   "execution_count": 43,
   "metadata": {},
   "outputs": [
    {
     "data": {
      "image/png": "[encoded data removed]",
      "text/plain": [
       "<Figure size 432x288 with 1 Axes>"
      ]
     },
     "metadata": {
      "needs_background": "light"
     },
     "output_type": "display_data"
    }
   ],
   "source": [
    "plt.bar(list(calculated_probability.keys()), list(calculated_probability.values()))\n",
    "plt.xlabel(\"Number of kids in class\")\n",
    "plt.ylabel(\"At leasr two born on the same date, %\")\n",
    "\n",
    "plt.show()"
   ]
  }
 ],
 "metadata": {
  "kernelspec": {
   "display_name": "Python 3",
   "language": "python",
   "name": "python3"
  },
  "language_info": {
   "codemirror_mode": {
    "name": "ipython",
    "version": 3
   },
   "file_extension": ".py",
   "mimetype": "text/x-python",
   "name": "python",
   "nbconvert_exporter": "python",
   "pygments_lexer": "ipython3",
   "version": "3.7.4"
  }
 },
 "nbformat": 4,
 "nbformat_minor": 2
}
