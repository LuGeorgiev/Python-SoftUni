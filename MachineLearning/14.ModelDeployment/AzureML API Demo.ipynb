{
 "metadata": {
  "language_info": {
   "codemirror_mode": {
    "name": "ipython",
    "version": 3
   },
   "file_extension": ".py",
   "mimetype": "text/x-python",
   "name": "python",
   "nbconvert_exporter": "python",
   "pygments_lexer": "ipython3",
   "version": "3.7.3-final"
  },
  "orig_nbformat": 2,
  "kernelspec": {
   "name": "Python 3.7.3 64-bit ('base': conda)",
   "display_name": "Python 3.7.3 64-bit ('base': conda)",
   "metadata": {
    "interpreter": {
     "hash": "7c3b02b097e899a9e05d1eedf6e081954774411363599731c748f2cb7c665867"
    }
   }
  }
 },
 "nbformat": 4,
 "nbformat_minor": 2,
 "cells": [
  {
   "cell_type": "code",
   "execution_count": 1,
   "metadata": {},
   "outputs": [],
   "source": [
    "%matplotlib inline"
   ]
  },
  {
   "cell_type": "code",
   "execution_count": 2,
   "metadata": {},
   "outputs": [],
   "source": [
    "import requests"
   ]
  },
  {
   "cell_type": "code",
   "execution_count": 3,
   "metadata": {},
   "outputs": [],
   "source": [
    "url = \"https://ussouthcentral.services.azureml.net/workspaces/6aa07b1af33b4b2bb32adc11b6e40bdc/services/0a2d9ba80e0b440fab4f584aef7b371a/execute?api-version=2.0&details=true\""
   ]
  },
  {
   "cell_type": "code",
   "execution_count": 4,
   "metadata": {},
   "outputs": [],
   "source": [
    "headers = {\n",
    "    \"Content-Type\": \"application/json\",\n",
    "    \"Accept\": \"application/json\",\n",
    "    \"Authorization\": \"Bearer *****************"\n",
    "}"
   ]
  },
  {
   "cell_type": "code",
   "execution_count": 5,
   "metadata": {},
   "outputs": [],
   "source": [
    "input_data = {\n",
    "  \"Inputs\": {\n",
    "    \"input1\": {\n",
    "      \"ColumnNames\": [\n",
    "        \"PassengerId\",\n",
    "        \"Survived\",\n",
    "        \"Pclass\",\n",
    "        \"Name\",\n",
    "        \"Sex\",\n",
    "        \"Age\",\n",
    "        \"SibSp\",\n",
    "        \"Parch\",\n",
    "        \"Ticket\",\n",
    "        \"Fare\",\n",
    "        \"Cabin\",\n",
    "        \"Embarked\"\n",
    "      ],\n",
    "      \"Values\": [\n",
    "        [\n",
    "          \"0\",\n",
    "          \"0\",\n",
    "          \"0\",\n",
    "          \"value\",\n",
    "          \"value\",\n",
    "          \"0\",\n",
    "          \"0\",\n",
    "          \"0\",\n",
    "          \"value\",\n",
    "          \"0\",\n",
    "          \"value\",\n",
    "          \"value\"\n",
    "        ],\n",
    "        [\n",
    "          \"0\",\n",
    "          \"0\",\n",
    "          \"0\",\n",
    "          \"value\",\n",
    "          \"value\",\n",
    "          \"0\",\n",
    "          \"0\",\n",
    "          \"0\",\n",
    "          \"value\",\n",
    "          \"0\",\n",
    "          \"value\",\n",
    "          \"value\"\n",
    "        ]\n",
    "      ]\n",
    "    }\n",
    "  },\n",
    "  \"GlobalParameters\": {}\n",
    "}"
   ]
  },
  {
   "cell_type": "code",
   "execution_count": 7,
   "metadata": {},
   "outputs": [],
   "source": [
    "response = requests.post(url = url, headers = headers, json = input_data)"
   ]
  },
  {
   "cell_type": "code",
   "execution_count": 8,
   "metadata": {},
   "outputs": [
    {
     "output_type": "execute_result",
     "data": {
      "text/plain": [
       "200"
      ]
     },
     "metadata": {},
     "execution_count": 8
    }
   ],
   "source": [
    "response.status_code"
   ]
  },
  {
   "cell_type": "code",
   "execution_count": 9,
   "metadata": {},
   "outputs": [
    {
     "output_type": "execute_result",
     "data": {
      "text/plain": [
       "'{\"Results\":{\"output1\":{\"type\":\"table\",\"value\":{\"ColumnNames\":[\"Scored Labels\",\"Scored Probabilities\"],\"ColumnTypes\":[\"Double\",\"Double\"],\"Values\":[[\"1\",\"0.703125\"],[\"1\",\"0.703125\"]]}}}}'"
      ]
     },
     "metadata": {},
     "execution_count": 9
    }
   ],
   "source": [
    "response.text"
   ]
  },
  {
   "cell_type": "code",
   "execution_count": 12,
   "metadata": {},
   "outputs": [],
   "source": [
    "result = response.json()"
   ]
  },
  {
   "cell_type": "code",
   "execution_count": 20,
   "metadata": {},
   "outputs": [
    {
     "output_type": "execute_result",
     "data": {
      "text/plain": [
       "{'ColumnNames': ['Scored Labels', 'Scored Probabilities'],\n",
       " 'ColumnTypes': ['Double', 'Double'],\n",
       " 'Values': [['1', '0.703125'], ['1', '0.703125']]}"
      ]
     },
     "metadata": {},
     "execution_count": 20
    }
   ],
   "source": [
    "result[\"Results\"][\"output1\"][\"value\"]"
   ]
  },
  {
   "cell_type": "code",
   "execution_count": null,
   "metadata": {},
   "outputs": [],
   "source": []
  }
 ]
}